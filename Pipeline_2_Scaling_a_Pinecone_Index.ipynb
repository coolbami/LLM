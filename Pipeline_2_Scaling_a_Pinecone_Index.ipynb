{
  "cells": [
    {
      "cell_type": "markdown",
      "metadata": {
        "id": "GFLLl1Agum8O"
      },
      "source": [
        "# Pipelines 2: Scaling the Pinecone vector store\n",
        "\n",
        "copyright 2024, Denis Rothman\n",
        "\n",
        "\n",
        "\n"
      ]
    },
    {
      "cell_type": "markdown",
      "metadata": {
        "id": "8QGI1D8FVrT6"
      },
      "source": [
        "#Installing the environment"
      ]
    },
    {
      "cell_type": "code",
      "execution_count": null,
      "metadata": {
        "id": "xoCE_RrKVrT7",
        "outputId": "28697e9d-ca14-4a8c-bbce-47bf306e4535",
        "colab": {
          "base_uri": "https://localhost:8080/"
        }
      },
      "outputs": [
        {
          "output_type": "stream",
          "name": "stdout",
          "text": [
            "Mounted at /content/drive\n"
          ]
        }
      ],
      "source": [
        "#API Key\n",
        "#Store you key in a file and read it(you can type it directly in the notebook but it will be visible for somebody next to you)\n",
        "from google.colab import drive\n",
        "drive.mount('/content/drive')"
      ]
    },
    {
      "cell_type": "code",
      "execution_count": null,
      "metadata": {
        "colab": {
          "base_uri": "https://localhost:8080/"
        },
        "collapsed": true,
        "id": "Z2abuU9OkVFL",
        "outputId": "ea425f1b-b9b3-4a59-88e5-4d4a22caad47"
      },
      "outputs": [
        {
          "output_type": "stream",
          "name": "stdout",
          "text": [
            "Collecting openai==1.40.3\n",
            "  Downloading openai-1.40.3-py3-none-any.whl.metadata (22 kB)\n",
            "Requirement already satisfied: anyio<5,>=3.5.0 in /usr/local/lib/python3.10/dist-packages (from openai==1.40.3) (3.7.1)\n",
            "Requirement already satisfied: distro<2,>=1.7.0 in /usr/lib/python3/dist-packages (from openai==1.40.3) (1.7.0)\n",
            "Collecting httpx<1,>=0.23.0 (from openai==1.40.3)\n",
            "  Downloading httpx-0.27.2-py3-none-any.whl.metadata (7.1 kB)\n",
            "Collecting jiter<1,>=0.4.0 (from openai==1.40.3)\n",
            "  Downloading jiter-0.5.0-cp310-cp310-manylinux_2_17_x86_64.manylinux2014_x86_64.whl.metadata (3.6 kB)\n",
            "Requirement already satisfied: pydantic<3,>=1.9.0 in /usr/local/lib/python3.10/dist-packages (from openai==1.40.3) (2.9.2)\n",
            "Requirement already satisfied: sniffio in /usr/local/lib/python3.10/dist-packages (from openai==1.40.3) (1.3.1)\n",
            "Requirement already satisfied: tqdm>4 in /usr/local/lib/python3.10/dist-packages (from openai==1.40.3) (4.66.5)\n",
            "Requirement already satisfied: typing-extensions<5,>=4.11 in /usr/local/lib/python3.10/dist-packages (from openai==1.40.3) (4.12.2)\n",
            "Requirement already satisfied: idna>=2.8 in /usr/local/lib/python3.10/dist-packages (from anyio<5,>=3.5.0->openai==1.40.3) (3.10)\n",
            "Requirement already satisfied: exceptiongroup in /usr/local/lib/python3.10/dist-packages (from anyio<5,>=3.5.0->openai==1.40.3) (1.2.2)\n",
            "Requirement already satisfied: certifi in /usr/local/lib/python3.10/dist-packages (from httpx<1,>=0.23.0->openai==1.40.3) (2024.8.30)\n",
            "Collecting httpcore==1.* (from httpx<1,>=0.23.0->openai==1.40.3)\n",
            "  Downloading httpcore-1.0.5-py3-none-any.whl.metadata (20 kB)\n",
            "Collecting h11<0.15,>=0.13 (from httpcore==1.*->httpx<1,>=0.23.0->openai==1.40.3)\n",
            "  Downloading h11-0.14.0-py3-none-any.whl.metadata (8.2 kB)\n",
            "Requirement already satisfied: annotated-types>=0.6.0 in /usr/local/lib/python3.10/dist-packages (from pydantic<3,>=1.9.0->openai==1.40.3) (0.7.0)\n",
            "Requirement already satisfied: pydantic-core==2.23.4 in /usr/local/lib/python3.10/dist-packages (from pydantic<3,>=1.9.0->openai==1.40.3) (2.23.4)\n",
            "Downloading openai-1.40.3-py3-none-any.whl (360 kB)\n",
            "\u001b[2K   \u001b[90m━━━━━━━━━━━━━━━━━━━━━━━━━━━━━━━━━━━━━━━━\u001b[0m \u001b[32m360.7/360.7 kB\u001b[0m \u001b[31m13.3 MB/s\u001b[0m eta \u001b[36m0:00:00\u001b[0m\n",
            "\u001b[?25hDownloading httpx-0.27.2-py3-none-any.whl (76 kB)\n",
            "\u001b[2K   \u001b[90m━━━━━━━━━━━━━━━━━━━━━━━━━━━━━━━━━━━━━━━━\u001b[0m \u001b[32m76.4/76.4 kB\u001b[0m \u001b[31m5.7 MB/s\u001b[0m eta \u001b[36m0:00:00\u001b[0m\n",
            "\u001b[?25hDownloading httpcore-1.0.5-py3-none-any.whl (77 kB)\n",
            "\u001b[2K   \u001b[90m━━━━━━━━━━━━━━━━━━━━━━━━━━━━━━━━━━━━━━━━\u001b[0m \u001b[32m77.9/77.9 kB\u001b[0m \u001b[31m5.9 MB/s\u001b[0m eta \u001b[36m0:00:00\u001b[0m\n",
            "\u001b[?25hDownloading jiter-0.5.0-cp310-cp310-manylinux_2_17_x86_64.manylinux2014_x86_64.whl (318 kB)\n",
            "\u001b[2K   \u001b[90m━━━━━━━━━━━━━━━━━━━━━━━━━━━━━━━━━━━━━━━━\u001b[0m \u001b[32m318.9/318.9 kB\u001b[0m \u001b[31m23.7 MB/s\u001b[0m eta \u001b[36m0:00:00\u001b[0m\n",
            "\u001b[?25hDownloading h11-0.14.0-py3-none-any.whl (58 kB)\n",
            "\u001b[2K   \u001b[90m━━━━━━━━━━━━━━━━━━━━━━━━━━━━━━━━━━━━━━━━\u001b[0m \u001b[32m58.3/58.3 kB\u001b[0m \u001b[31m4.4 MB/s\u001b[0m eta \u001b[36m0:00:00\u001b[0m\n",
            "\u001b[?25hInstalling collected packages: jiter, h11, httpcore, httpx, openai\n",
            "Successfully installed h11-0.14.0 httpcore-1.0.5 httpx-0.27.2 jiter-0.5.0 openai-1.40.3\n",
            "Collecting pinecone-client==5.0.1\n",
            "  Downloading pinecone_client-5.0.1-py3-none-any.whl.metadata (19 kB)\n",
            "Requirement already satisfied: certifi>=2019.11.17 in /usr/local/lib/python3.10/dist-packages (from pinecone-client==5.0.1) (2024.8.30)\n",
            "Collecting pinecone-plugin-inference<2.0.0,>=1.0.3 (from pinecone-client==5.0.1)\n",
            "  Downloading pinecone_plugin_inference-1.1.0-py3-none-any.whl.metadata (2.2 kB)\n",
            "Collecting pinecone-plugin-interface<0.0.8,>=0.0.7 (from pinecone-client==5.0.1)\n",
            "  Downloading pinecone_plugin_interface-0.0.7-py3-none-any.whl.metadata (1.2 kB)\n",
            "Requirement already satisfied: tqdm>=4.64.1 in /usr/local/lib/python3.10/dist-packages (from pinecone-client==5.0.1) (4.66.5)\n",
            "Requirement already satisfied: typing-extensions>=3.7.4 in /usr/local/lib/python3.10/dist-packages (from pinecone-client==5.0.1) (4.12.2)\n",
            "Requirement already satisfied: urllib3>=1.26.0 in /usr/local/lib/python3.10/dist-packages (from pinecone-client==5.0.1) (2.2.3)\n",
            "Downloading pinecone_client-5.0.1-py3-none-any.whl (244 kB)\n",
            "\u001b[2K   \u001b[90m━━━━━━━━━━━━━━━━━━━━━━━━━━━━━━━━━━━━━━━━\u001b[0m \u001b[32m244.8/244.8 kB\u001b[0m \u001b[31m7.7 MB/s\u001b[0m eta \u001b[36m0:00:00\u001b[0m\n",
            "\u001b[?25hDownloading pinecone_plugin_inference-1.1.0-py3-none-any.whl (85 kB)\n",
            "\u001b[2K   \u001b[90m━━━━━━━━━━━━━━━━━━━━━━━━━━━━━━━━━━━━━━━━\u001b[0m \u001b[32m85.4/85.4 kB\u001b[0m \u001b[31m7.2 MB/s\u001b[0m eta \u001b[36m0:00:00\u001b[0m\n",
            "\u001b[?25hDownloading pinecone_plugin_interface-0.0.7-py3-none-any.whl (6.2 kB)\n",
            "Installing collected packages: pinecone-plugin-interface, pinecone-plugin-inference, pinecone-client\n",
            "Successfully installed pinecone-client-5.0.1 pinecone-plugin-inference-1.1.0 pinecone-plugin-interface-0.0.7\n"
          ]
        }
      ],
      "source": [
        "!pip install openai==1.40.3\n",
        "!pip install pinecone-client==5.0.1"
      ]
    },
    {
      "cell_type": "code",
      "execution_count": null,
      "metadata": {
        "id": "xotquvXHRxrU"
      },
      "outputs": [],
      "source": [
        "f = open(\"drive/MyDrive/files/pinecone.txt\", \"r\")\n",
        "PINECONE_API_KEY=f.readline()\n",
        "f.close()"
      ]
    },
    {
      "cell_type": "code",
      "execution_count": null,
      "metadata": {
        "id": "I8lwM8XMd9bz"
      },
      "outputs": [],
      "source": [
        "f = open(\"drive/MyDrive/files/api_key.txt\", \"r\")\n",
        "API_KEY=f.readline()\n",
        "f.close()"
      ]
    },
    {
      "cell_type": "code",
      "execution_count": null,
      "metadata": {
        "id": "UbKxUEHiZNyX"
      },
      "outputs": [],
      "source": [
        "#The OpenAI Key\n",
        "import os\n",
        "import openai\n",
        "os.environ['OPENAI_API_KEY'] =API_KEY\n",
        "openai.api_key = os.getenv(\"OPENAI_API_KEY\")"
      ]
    },
    {
      "cell_type": "markdown",
      "metadata": {
        "id": "cVjOmtIiY1yf"
      },
      "source": [
        "# Processing bank churn dataset"
      ]
    },
    {
      "cell_type": "markdown",
      "metadata": {
        "id": "M0QfuYcVSUYx"
      },
      "source": [
        "RangeIndex: 10000 entries, 0 to 9999\n",
        "Data columns (total 14 columns):\n",
        "    Column              Non-Null Count  Dtype  \n",
        "---  ------              --------------  -----  \n",
        " 0   CustomerId          10000 non-null  int64  \n",
        " 1   CreditScore         10000 non-null  int64  \n",
        " 2   Age                 10000 non-null  int64  \n",
        " 3   Tenure              10000 non-null  int64  \n",
        " 4   Balance             10000 non-null  float64  \n",
        " 5   NumOfProducts       10000 non-null  int64  \n",
        " 6   HasCrCard           10000 non-null  int64  \n",
        " 7   IsActiveMember      10000 non-null  int64  \n",
        " 8   EstimatedSalary     10000 non-null  float64  \n",
        " 9   Exited              10000 non-null  int64  \n",
        " 10  Complain            10000 non-null  int64  \n",
        " 11  Satisfaction Score  10000 non-null  int64  \n",
        " 12  Card Type           10000 non-null  object   \n",
        " 13  Point Earned        10000 non-null  int64    \n",
        "dtypes: float64(2), int64(11), object(1)\n",
        "memory usage: 1.1+ MB"
      ]
    },
    {
      "cell_type": "markdown",
      "metadata": {
        "id": "hdmbrrbmsv_q"
      },
      "source": [
        "You can retrieve `data1.csv` from Google Drive that was generated in `Pipeline_1_Collecting_and_preparing_the_dataset.ipynb` and saved in your Google Drive\n",
        "\n",
        "or\n",
        "\n",
        "You can download the ready-to-use `data1.csv` from the GitHub repository.\n"
      ]
    },
    {
      "cell_type": "code",
      "execution_count": null,
      "metadata": {
        "id": "7wrAq4yYspVn"
      },
      "outputs": [],
      "source": [
        "#Run this cell if you saved data.csv in your Google Drive\n",
        "#or comment this cell and run the next cell.\n",
        "!cp /content/drive/MyDrive/files/rag_c6/data1.csv /content/data1.csv"
      ]
    },
    {
      "cell_type": "code",
      "execution_count": null,
      "metadata": {
        "id": "Gl43WeHTYMVi"
      },
      "outputs": [],
      "source": [
        "#Uncomment the following command if you want to retrieve the ready-to-use data1.csv file\n",
        "#!curl -o data1.csv https://raw.githubusercontent.com/Denis2054/RAG-Driven-Generative-AI/main/Chapter06/data1.csv"
      ]
    },
    {
      "cell_type": "code",
      "execution_count": null,
      "metadata": {
        "id": "f8xEic_3fTg-"
      },
      "outputs": [],
      "source": [
        "import pandas as pd\n",
        "# Load the CSV file\n",
        "file_path = '/content/data1.csv'\n",
        "data1 = pd.read_csv(file_path)"
      ]
    },
    {
      "cell_type": "code",
      "execution_count": null,
      "metadata": {
        "colab": {
          "base_uri": "https://localhost:8080/"
        },
        "id": "V_9qm9wLLHRj",
        "outputId": "15b851cd-71ce-44b7-8c02-2960295d1afe"
      },
      "outputs": [
        {
          "output_type": "stream",
          "name": "stdout",
          "text": [
            "Number of lines:  10000\n"
          ]
        }
      ],
      "source": [
        "# Count the chunks\n",
        "number_of_lines = len(data1)\n",
        "print(\"Number of lines: \",number_of_lines)"
      ]
    },
    {
      "cell_type": "code",
      "execution_count": null,
      "metadata": {
        "colab": {
          "base_uri": "https://localhost:8080/"
        },
        "id": "0BiYzIT5zvtx",
        "outputId": "e6c46ba1-e369-4508-809b-3444b869cd35"
      },
      "outputs": [
        {
          "output_type": "stream",
          "name": "stdout",
          "text": [
            "CustomerId: 15634602 CreditScore: 619 Age: 42 Tenure: 2 Balance: 0.0 NumOfProducts: 1 HasCrCard: 1 IsActiveMember: 1 EstimatedSalary: 101348.88 Exited: 1 Complain: 1 Satisfaction Score: 2 Card Type: DIAMOND Point Earned: 464\n",
            "CustomerId: 15647311 CreditScore: 608 Age: 41 Tenure: 1 Balance: 83807.86 NumOfProducts: 1 HasCrCard: 0 IsActiveMember: 1 EstimatedSalary: 112542.58 Exited: 0 Complain: 1 Satisfaction Score: 3 Card Type: DIAMOND Point Earned: 456\n",
            "CustomerId: 15619304 CreditScore: 502 Age: 42 Tenure: 8 Balance: 159660.8 NumOfProducts: 3 HasCrCard: 1 IsActiveMember: 0 EstimatedSalary: 113931.57 Exited: 1 Complain: 1 Satisfaction Score: 3 Card Type: DIAMOND Point Earned: 377\n",
            "CustomerId: 15701354 CreditScore: 699 Age: 39 Tenure: 1 Balance: 0.0 NumOfProducts: 2 HasCrCard: 0 IsActiveMember: 0 EstimatedSalary: 93826.63 Exited: 0 Complain: 0 Satisfaction Score: 5 Card Type: GOLD Point Earned: 350\n",
            "CustomerId: 15737888 CreditScore: 850 Age: 43 Tenure: 2 Balance: 125510.82 NumOfProducts: 1 HasCrCard: 1 IsActiveMember: 1 EstimatedSalary: 79084.1 Exited: 0 Complain: 0 Satisfaction Score: 5 Card Type: GOLD Point Earned: 425\n"
          ]
        }
      ],
      "source": [
        "import pandas as pd\n",
        "\n",
        "# Initialize an empty list to store the lines\n",
        "output_lines = []\n",
        "\n",
        "# Iterate over each row in the DataFrame\n",
        "for index, row in data1.iterrows():\n",
        "    # Create a list of \"column_name: value\" for each column in the row\n",
        "    row_data = [f\"{col}: {row[col]}\" for col in data1.columns]\n",
        "    # Join the list into a single string separated by spaces\n",
        "    line = ' '.join(row_data)\n",
        "    # Append the line to the output list\n",
        "    output_lines.append(line)\n",
        "\n",
        "# Display or further process `output_lines` as needed\n",
        "for line in output_lines[:5]:  # Displaying first 5 lines for preview\n",
        "    print(line)"
      ]
    },
    {
      "cell_type": "code",
      "execution_count": null,
      "metadata": {
        "id": "Q0uvjtB-0AxM"
      },
      "outputs": [],
      "source": [
        "lines = output_lines.copy()"
      ]
    },
    {
      "cell_type": "code",
      "execution_count": null,
      "metadata": {
        "colab": {
          "base_uri": "https://localhost:8080/"
        },
        "id": "WpCX9sHBLFZE",
        "outputId": "739d4caf-71e1-4cdf-dea5-366f35304c37"
      },
      "outputs": [
        {
          "output_type": "stream",
          "name": "stdout",
          "text": [
            "Number of lines:  10000\n"
          ]
        }
      ],
      "source": [
        "# Count the lines\n",
        "number_of_lines = len(lines)\n",
        "print(\"Number of lines: \",number_of_lines)"
      ]
    },
    {
      "cell_type": "markdown",
      "metadata": {
        "id": "eIb_dIfe1fOq"
      },
      "source": [
        "# Chunking and embedding the dataset"
      ]
    },
    {
      "cell_type": "markdown",
      "metadata": {
        "id": "e2GXkdHLS-Uq"
      },
      "source": [
        "## Chunking"
      ]
    },
    {
      "cell_type": "code",
      "execution_count": null,
      "metadata": {
        "colab": {
          "base_uri": "https://localhost:8080/"
        },
        "id": "7lJfNBhbL7c_",
        "outputId": "95479d49-dbd7-4b10-f639-524ea1e31c37"
      },
      "outputs": [
        {
          "output_type": "stream",
          "name": "stdout",
          "text": [
            "Total number of chunks: 10000\n",
            "Response Time: 0.01 seconds\n"
          ]
        }
      ],
      "source": [
        "import time\n",
        "start_time = time.time()  # Start timing before the request\n",
        "\n",
        "# Initialize an empty list for the chunks\n",
        "chunks = []\n",
        "\n",
        "# Add each line as a separate chunk to the chunks list\n",
        "for line in lines:\n",
        "    chunks.append(line)  # Each line becomes its own chunk\n",
        "\n",
        "# Now, each line is treated as a separate chunk\n",
        "print(f\"Total number of chunks: {len(chunks)}\")\n",
        "\n",
        "response_time = time.time() - start_time  # Measure response time\n",
        "print(f\"Response Time: {response_time:.2f} seconds\")  # Print response time"
      ]
    },
    {
      "cell_type": "code",
      "execution_count": null,
      "metadata": {
        "colab": {
          "base_uri": "https://localhost:8080/"
        },
        "id": "iHwXHAO5DsaC",
        "outputId": "eab74902-74d6-436e-de4d-0a2581c5ab2e"
      },
      "outputs": [
        {
          "output_type": "stream",
          "name": "stdout",
          "text": [
            "224\n",
            "CustomerId: 15634602 CreditScore: 619 Age: 42 Tenure: 2 Balance: 0.0 NumOfProducts: 1 HasCrCard: 1 IsActiveMember: 1 EstimatedSalary: 101348.88 Exited: 1 Complain: 1 Satisfaction Score: 2 Card Type: DIAMOND Point Earned: 464\n",
            "229\n",
            "CustomerId: 15647311 CreditScore: 608 Age: 41 Tenure: 1 Balance: 83807.86 NumOfProducts: 1 HasCrCard: 0 IsActiveMember: 1 EstimatedSalary: 112542.58 Exited: 0 Complain: 1 Satisfaction Score: 3 Card Type: DIAMOND Point Earned: 456\n",
            "229\n",
            "CustomerId: 15619304 CreditScore: 502 Age: 42 Tenure: 8 Balance: 159660.8 NumOfProducts: 3 HasCrCard: 1 IsActiveMember: 0 EstimatedSalary: 113931.57 Exited: 1 Complain: 1 Satisfaction Score: 3 Card Type: DIAMOND Point Earned: 377\n"
          ]
        }
      ],
      "source": [
        "# Print the length and content of the first 10 chunks\n",
        "for i in range(3):\n",
        "    print(len(chunks[i]))\n",
        "    print(chunks[i])"
      ]
    },
    {
      "cell_type": "markdown",
      "metadata": {
        "id": "xnpKzYzRpXfn"
      },
      "source": [
        "## Embedding\n",
        "\n",
        "**IMPORTANT NOTE**: OpenAI continually upgrades its models including the embedding models. As such, this section is updated when necessary for performance optimization."
      ]
    },
    {
      "cell_type": "markdown",
      "metadata": {
        "id": "EnNRM3aBlYea"
      },
      "source": [
        "### Initializing the embedding model\n"
      ]
    },
    {
      "cell_type": "code",
      "execution_count": null,
      "metadata": {
        "id": "nKl3UiJ3-pXE"
      },
      "outputs": [],
      "source": [
        "import openai\n",
        "import time\n",
        "\n",
        "embedding_model=\"text-embedding-3-small\"\n",
        "#embedding_model=\"text-embedding-3-large\"\n",
        "#embedding_model=\"text-embedding-ada-002\"\n",
        "\n",
        "# Initialize the OpenAI client\n",
        "client = openai.OpenAI()\n",
        "\n",
        "def get_embedding(texts, model=\"text-embedding-3-small\"):\n",
        "    texts = [text.replace(\"\\n\", \" \") for text in texts]  # Clean input texts\n",
        "    response = client.embeddings.create(input=texts, model=model)  # API call for batch\n",
        "    embeddings = [res.embedding for res in response.data]  # Extract embeddings\n",
        "    return embeddings\n"
      ]
    },
    {
      "cell_type": "markdown",
      "metadata": {
        "id": "RCAEGyrve2pW"
      },
      "source": [
        "### Embedding the chunks\n",
        "\n",
        "    Parameters:\n",
        "        chunks (list): List of text chunks to be embedded.\n",
        "        embedding_model (str): Model to be used for embedding.\n",
        "        batch_size (int): Number of chunks to process per batch.\n",
        "        pause_time (int): Time to wait between batches (in seconds).\n",
        "    "
      ]
    },
    {
      "cell_type": "code",
      "source": [
        "def embed_chunks(chunks, embedding_model=\"text-embedding-3-small\", batch_size=1000, pause_time=3):\n",
        "    start_time = time.time()  # Start timing the operation\n",
        "    embeddings = []  # Initialize an empty list to store the embeddings\n",
        "    counter = 1  # Batch counter\n",
        "\n",
        "    # Process chunks in batches\n",
        "    for i in range(0, len(chunks), batch_size):\n",
        "        chunk_batch = chunks[i:i + batch_size]  # Select a batch of chunks\n",
        "\n",
        "        # Get the embeddings for the current batch\n",
        "        current_embeddings = get_embedding(chunk_batch, model=embedding_model)\n",
        "\n",
        "        # Append the embeddings to the final list\n",
        "        embeddings.extend(current_embeddings)\n",
        "\n",
        "        # Print batch progress and pause\n",
        "        print(f\"Batch {counter} embedded.\")\n",
        "        counter += 1\n",
        "        time.sleep(pause_time)  # Optional: adjust or remove this depending on rate limits\n",
        "\n",
        "    # Print total response time\n",
        "    response_time = time.time() - start_time\n",
        "    print(f\"Total Response Time: {response_time:.2f} seconds\")\n",
        "\n",
        "    return embeddings\n",
        "\n",
        "embeddings = embed_chunks(chunks)"
      ],
      "metadata": {
        "id": "wWhJBzn6Ggak",
        "outputId": "2f84031f-531d-4b02-9178-a60257783931",
        "colab": {
          "base_uri": "https://localhost:8080/"
        }
      },
      "execution_count": null,
      "outputs": [
        {
          "output_type": "stream",
          "name": "stdout",
          "text": [
            "Batch 1 embedded.\n",
            "Batch 2 embedded.\n",
            "Batch 3 embedded.\n",
            "Batch 4 embedded.\n",
            "Batch 5 embedded.\n",
            "Batch 6 embedded.\n",
            "Batch 7 embedded.\n",
            "Batch 8 embedded.\n",
            "Batch 9 embedded.\n",
            "Batch 10 embedded.\n",
            "Total Response Time: 50.82 seconds\n"
          ]
        }
      ]
    },
    {
      "cell_type": "code",
      "execution_count": null,
      "metadata": {
        "colab": {
          "base_uri": "https://localhost:8080/"
        },
        "id": "W1r5SVLu768D",
        "outputId": "cae83504-c5fc-4d24-8ab4-fca2f0132d65"
      },
      "outputs": [
        {
          "output_type": "stream",
          "name": "stdout",
          "text": [
            "First embedding: [0.004647376481443644, -0.009073098190128803, 0.0009928318904712796, 0.037622325122356415, 0.022313319146633148, -0.025593820959329605, -0.010151821188628674, 0.07908667623996735, 0.01027742587029934, -0.04905974864959717, 0.05160139873623848, -0.0459270179271698, -0.028416233137249947, -0.006900873966515064, 0.07069332152605057, 0.04660676047205925, -0.0364401638507843, 0.019786447286605835, -0.025475604459643364, 0.04932573437690735, 0.035051122307777405, 0.06732416152954102, 0.01619562692940235, -0.022106440737843513, 0.0009605071390978992, 0.037504106760025024, -0.057896412909030914, -0.04116881266236305, 0.03555354103446007, -0.057482656091451645, 0.0608222670853138, -0.033307429403066635, 0.02783992886543274, 0.03824295848608017, 0.014163785614073277, 0.02540171891450882, 0.00010823021875694394, 0.04979860037565231, 0.03673570230603218, -0.04657720774412155, -0.050330571830272675, 0.022401981055736542, 0.018175749108195305, -0.00028284164727665484, -0.014821363613009453, 0.0068750143982470036, 0.011681243777275085, -0.004676930606365204, 0.004259479697793722, 0.04374001547694206, -0.015072572976350784, 0.01714135706424713, -0.0138460798189044, 0.042498745024204254, -0.015441998839378357, -0.023938791826367378, 0.02729317918419838, -0.03697213530540466, -0.003529863664880395, 0.021367589011788368, 0.021441474556922913, -0.038420286029577255, 0.014052958227694035, 0.03283456712961197, 0.030100814998149872, -0.006391066592186689, -0.01122315600514412, 0.0527244508266449, -0.0404890701174736, 0.00422623148187995, -0.02916986122727394, 0.016727600246667862, 0.03658793121576309, -0.008179087191820145, 0.01903281733393669, 0.0026210760697722435, -0.0011396786430850625, -0.027248848229646683, 0.024618536233901978, -0.028032030910253525, -0.014488880522549152, 0.004950305912643671, -0.02770693600177765, -0.019121479243040085, -4.366728535387665e-05, -0.06117691472172737, -0.025697259232401848, -0.055177439004182816, 0.018146196380257607, -0.026007577776908875, -0.05174916610121727, -0.04202587902545929, -0.027500057592988014, -0.03632194548845291, 0.017097026109695435, -0.010543412528932095, -0.07896845787763596, 0.017525561153888702, -0.020347973331809044, 0.01838262751698494, 0.015176012180745602, 0.028209354728460312, 0.0418781116604805, -0.030499795451760292, -0.005216292571276426, 0.046931855380535126, -0.0018184985965490341, -0.0024991657119244337, -0.023835353553295135, 0.012191051617264748, -0.07518554478883743, 0.01649116910994053, -0.06566913425922394, 0.011193602345883846, -0.02284529246389866, 0.006287627387791872, -0.04846866801381111, -0.012139332480728626, -0.04143479838967323, -0.054793234914541245, -0.05387705937027931, 0.00958290509879589, 0.01397907268255949, -0.04838000610470772, -0.00831208098679781, 0.011533473618328571, 0.002114962786436081, -0.003845722647383809, -1.7114805814344436e-05, -0.02147102728486061, 0.006793740671128035, 0.020347973331809044, 0.02633267268538475, -0.008570678532123566, -0.02974616549909115, 0.006080748979002237, 0.004196677356958389, -0.010447361506521702, -0.045040395110845566, -0.06064493954181671, -0.027751266956329346, 0.016106965020298958, 0.043296705931425095, -0.005035273730754852, -0.03862716257572174, -0.0594627782702446, -0.02538694255053997, 0.030883997678756714, -0.06176799535751343, 0.0033359150402247906, 0.02133803442120552, 0.009509020484983921, -0.04876420646905899, -0.05169006064534187, 0.04944394901394844, -0.02460375986993313, 0.02447076514363289, 0.03972066193819046, -0.03419405221939087, -0.014230282045900822, -0.005703934468328953, -0.024515096098184586, -0.018042756244540215, -0.02040708251297474, -0.012545700185000896, -0.025874583050608635, -0.0070929755456745625, -0.037090349942445755, -0.08257405459880829, -0.03404628112912178, -0.0005735335871577263, -0.05768953636288643, -0.047493383288383484, -0.06383678317070007, -0.021648352965712547, 0.0016670339973643422, 0.0047249561175704, -0.03833162039518356, -0.004059989470988512, 0.012590032070875168, -0.00783182680606842, 0.011178825050592422, 0.0350806750357151, -0.03975021839141846, -0.029554065316915512, -0.042498745024204254, -0.03658793121576309, 0.009412969462573528, 0.027248848229646683, 0.01754033751785755, 0.013690920546650887, 0.020968608558177948, -0.00023089113528840244, -0.0009845198364928365, -0.007325713988393545, -0.02999737672507763, 0.006742021068930626, 0.04929618164896965, -0.05390661582350731, 0.03067711926996708, 0.011873345822095871, -0.04953261464834213, 0.031947944313287735, 0.04743427410721779, -0.051512736827135086, 0.019919440150260925, 0.00234770099632442, -0.028283240273594856, -0.015486329793930054, 0.023746691644191742, 0.06495983153581619, 0.021441474556922913, 0.0028648972511291504, 0.005116547457873821, -0.032332148402929306, -0.0051276301965117455, 0.03407583758234978, -0.01660938374698162, 0.014185951091349125, 0.023288603872060776, -0.01566365361213684, 0.018027979880571365, 0.009309530258178711, -0.002201777882874012, -0.02077650837600231, 0.05556164309382439, 0.04418332874774933, 0.01358748134225607, 0.03983888030052185, -0.020879946649074554, -0.0020743259228765965, 0.012878184206783772, -0.01569320820271969, -0.030026929453015327, -0.0043924730271101, 0.053817953914403915, 0.025017516687512398, 0.04105059802532196, 0.006845460273325443, -0.01677193120121956, -0.046665869653224945, 0.03014514595270157, -0.014237671159207821, 0.026037130504846573, 0.03067711926996708, -0.03280501067638397, -0.01545677613466978, -0.02376146800816059, 0.007772719021886587, -0.003217698773369193, 0.007026479113847017, 0.05024190992116928, -0.011932454071938992, 0.002355089643970132, 0.01728912815451622, -0.011681243777275085, 0.003830945584923029, 0.06915651261806488, 0.040548175573349, -0.021663129329681396, 0.02770693600177765, -0.03067711926996708, 0.015870532020926476, -0.012907737866044044, -0.04622255638241768, -0.007588006090372801, 0.0249731857329607, -0.008740615099668503, -0.031238647177815437, -0.012301879934966564, -0.026509996503591537, 0.01660938374698162, 0.04447886720299721, 0.03809519112110138, 0.0022313320077955723, -0.011400480754673481, -0.012250159867107868, -0.012331433594226837, 0.044774409383535385, 0.023126056417822838, 0.0008829276775941253, -0.004968777298927307, 0.009220868349075317, -0.0006432626978494227, 0.009287364780902863, 0.01289296057075262, -0.01181423757225275, -0.022209879010915756, 0.044626638293266296, 0.02581547573208809, -0.041257474571466446, -0.05056700482964516, 0.015109515748918056, -0.037238121032714844, 0.03401672840118408, -0.016299067065119743, 0.026583882048726082, -0.028726551681756973, 0.01100150030106306, 0.011245321482419968, 0.03295278176665306, 0.08470194786787033, 0.023052170872688293, -0.007174249272793531, 0.011836403049528599, 0.03933646157383919, 0.03768143430352211, 0.012848629616200924, -0.028844768181443214, -0.049384843558073044, -0.03129775449633598, 0.010388254188001156, 0.03528755530714989, 0.0007503961678594351, 0.0020152179058641195, 0.024426434189081192, -0.0002830725279636681, -0.03109087608754635, 0.0445379763841629, -0.02163357473909855, -0.003284195438027382, -0.014333721250295639, 0.012176274321973324, 0.009715898893773556, 0.016845816746354103, 0.004285339266061783, 0.025564266368746758, 0.005711323115974665, 0.01647639088332653, -0.04521771892905235, -0.026155347004532814, -0.04093237966299057, 0.0077948844991624355, -0.020894723013043404, -0.046399880200624466, 0.01167385559529066, 0.022623635828495026, -0.0008501411648467183, -0.02457420527935028, 0.052340250462293625, 0.03930690512061119, -0.07950043678283691, -0.011415258049964905, -0.04143479838967323, 0.030086038634181023, -0.0418781116604805, 0.0195795688778162, 0.011563028208911419, 0.04876420646905899, -0.015050407499074936, -0.03171151131391525, -0.02132325805723667, 0.01106799766421318, 0.04498128592967987, -0.02754438854753971, 0.01039564236998558, 0.009826726280152798, 0.012191051617264748, -0.00831208098679781, 0.03472602739930153, 0.012523534707725048, 0.033011890947818756, -0.03744500130414963, 0.022874847054481506, 0.05148318037390709, 0.0037976973690092564, -0.02389446087181568, -0.030706673860549927, 0.049384843558073044, -0.040548175573349, -0.029110753908753395, 0.021559691056609154, -0.004521771799772978, -0.0037496720906347036, -0.04232142120599747, -0.03983888030052185, 0.009309530258178711, 0.005892341490834951, 0.05121719464659691, -0.0021519053261727095, 0.05296088382601738, 0.041139259934425354, -0.02172223851084709, 0.006431703455746174, 0.03336653858423233, 0.026968084275722504, 0.020052433013916016, 0.03431227058172226, -0.053019993007183075, -0.014710536226630211, 0.0539952777326107, -0.028002476319670677, 0.01730390451848507, -0.06596467643976212, -0.028165023773908615, -0.005552469752728939, 0.016372952610254288, 0.05021235719323158, 0.0033155966084450483, -0.00408584950491786, 0.01553066074848175, -0.04699096456170082, 0.03771098703145981, -0.03632194548845291, 0.014023403637111187, -0.03768143430352211, 0.01892937906086445, 0.002212860621511936, 0.019535236060619354, -0.023997901007533073, 0.031415972858667374, -0.05890125036239624, 0.02673165127635002, 0.008829277008771896, 0.0014740090118721128, -0.016550276428461075, -0.031800173223018646, 0.024751529097557068, 0.005485973320901394, -0.009959720075130463, -0.05633004754781723, -0.019816000014543533, -0.0022294847294688225, -0.018973710015416145, -0.027736490592360497, -0.0038050857838243246, 0.008289915509521961, 0.02676120586693287, -0.007292465306818485, 0.0015996138099581003, -0.034903351217508316, 0.042735178023576736, 0.018234858289361, 0.007802273146808147, -0.05426126345992088, -0.011777294799685478, -0.012346210889518261, 0.01102366577833891, -0.02404223196208477, -0.010705959983170033, -0.009146982803940773, -0.01553066074848175, -0.020037656649947166, -0.0539952777326107, -0.01592964120209217, -0.006154634058475494, 0.04447886720299721, -0.060881372541189194, 0.01275996770709753, 0.010247872211039066, -0.025579042732715607, -0.010964558459818363, -0.0007527050911448896, 0.010550801642239094, -0.08901684731245041, 0.0024419045075774193, 0.014828751794993877, 0.04158256947994232, -0.012035893276333809, 0.042203206568956375, -0.029613172635436058, -0.015589768998324871, 0.04574969410896301, 0.007853993214666843, -0.010971946641802788, 0.005020496901124716, -0.04134613648056984, 0.022756630554795265, 0.023170387372374535, 0.015131681226193905, 0.007676668465137482, -0.025372164323925972, 0.015855755656957626, 0.02984960563480854, 0.0202740877866745, -0.0038124744314700365, -0.018988486379384995, 0.021249372512102127, 0.02268274500966072, 0.020510520786046982, -0.04119836539030075, -0.01822008192539215, -0.044774409383535385, 0.046665869653224945, 0.018988486379384995, 0.03324832394719124, 5.909369974688161e-06, 0.0042557851411402225, -0.05984698235988617, 0.02744094841182232, 0.019653452560305595, 0.019106702879071236, 0.0068824030458927155, -0.01906237192451954, -0.032745905220508575, 0.01919536478817463, 0.03975021839141846, -0.030204255133867264, -0.0044183325953781605, -0.06915651261806488, -0.017628999426960945, -0.03215482085943222, 0.005426865071058273, 0.019564790651202202, -0.02352503500878811, 0.003908525221049786, -0.021234596148133278, -0.06850632280111313, -0.020067209377884865, -0.03351430967450142, -0.0060918317176401615, 0.08050527423620224, -0.02176656946539879, -0.03954333811998367, -0.03525799885392189, -0.009435134939849377, -0.0027134325355291367, 0.050596557557582855, -0.021456250920891762, 0.004008269868791103, 0.03567175567150116, -0.004747121594846249, 0.012863406911492348, 0.009146982803940773, -0.026436110958456993, -0.020835615694522858, -0.01891460083425045, -0.04873465374112129, -0.029539287090301514, -0.014326333068311214, 0.010994112119078636, -0.008142145350575447, 0.01567843183875084, 0.058014631271362305, -0.01148175448179245, -0.0048099239356815815, -0.024382103234529495, -0.017510782927274704, 0.009996662847697735, -0.016047857701778412, 0.06407321244478226, -0.0031087181996554136, -0.0005139636341482401, -0.024204779416322708, 0.016993587836623192, -0.030322469770908356, 0.021914338693022728, -0.0049170576967298985, -0.016668492928147316, 0.02281573787331581, -0.005083299241960049, -0.03067711926996708, -0.002608146285638213, 0.029376739636063576, -0.015840979292988777, -0.023746691644191742, 0.01659460738301277, -0.013801747933030128, -0.019210143014788628, -0.002205472206696868, 0.00010586358257569373, -0.02484019100666046, 0.010543412528932095, 0.050596557557582855, -0.03038157895207405, 0.011969395913183689, 0.0087849460542202, -0.016003526747226715, -0.019402243196964264, 0.008962269872426987, -0.014954356476664543, 0.014843529090285301, -0.022106440737843513, 0.03661748766899109, 0.028416233137249947, 0.03298233821988106, -0.026421334594488144, 0.018027979880571365, 0.02014109492301941, 0.016239957883954048, -0.00708928145468235, -0.007133612409234047, 0.025830252096056938, 0.032479915767908096, -0.05955144017934799, 0.033691633492708206, 0.030470240861177444, -0.0002664483617991209, 0.02807636186480522, 0.020155873149633408, -0.008903161622583866, 0.00425209105014801, 0.002826107433065772, 0.022328095510601997, -0.020200204104185104, -0.01714135706424713, -0.01700836420059204, 0.011297041550278664, 0.027381841093301773, -0.02068784460425377, 0.02203255519270897, -0.015427221544086933, -0.007942655123770237, -0.01851562224328518, -0.006812212057411671, 0.04241008311510086, 0.028549226000905037, 0.0757175162434578, 0.002255344530567527, -0.01261958573013544, 0.0053086490370333195, 0.015279451385140419, 0.013254998251795769, -0.03298233821988106, -0.014149008318781853, 0.01466620434075594, -0.020599182695150375, -0.006058583501726389, -0.017082249745726585, 0.004093238152563572, 0.010018828324973583, -0.027766043320298195, -0.015885310247540474, -0.0009965260978788137, -0.0016291678184643388, 0.033455200493335724, 0.006095525808632374, -0.03617417439818382, -0.005434253718703985, 0.008334246464073658, -0.006213742308318615, -0.01553066074848175, 0.00870367232710123, 0.004628905560821295, 0.023702360689640045, 0.009981885552406311, 0.03629239276051521, 0.014777032658457756, -0.01167385559529066, -0.009811949916183949, 0.01358748134225607, 0.02108682505786419, 0.04022308066487312, -0.01635817438364029, 0.05242891237139702, -5.725378741772147e-06, 0.0012994552962481976, 0.020983386784791946, -0.03880448639392853, 0.007015396375209093, -0.01248659286648035, -0.030159924179315567, 0.02593369223177433, -0.05819195508956909, 0.011407868936657906, -0.018958931788802147, -0.012678693979978561, 0.005160878412425518, -0.020155873149633408, 0.03859760984778404, -0.036824364215135574, 0.014754867181181908, -0.0033968703355640173, 0.014045569114387035, 0.016964033246040344, 0.029613172635436058, 0.002192542189732194, 0.0011960160918533802, 0.0055450815707445145, 0.03850894793868065, 0.005423170980066061, 0.014422384090721607, -0.01999332569539547, 0.017747215926647186, -0.005907118786126375, -0.0019284026930108666, 0.004011964425444603, -0.02540171891450882, 0.020022878423333168, -0.008696283213794231, 0.011127105914056301, -0.010491693392395973, -0.007044950034469366, -0.005009414162486792, -0.019490905106067657, -0.021012939512729645, 0.024633312597870827, -0.010735513642430305, 0.03638105466961861, 0.013476653955876827, 0.030352024361491203, 0.04820267856121063, 0.0229930616915226, -0.025091400370001793, -0.027101077139377594, -0.02903686836361885, 0.012981623411178589, 0.0003394099767319858, -0.020288866013288498, -0.055059224367141724, -0.0283571258187294, -0.02621445618569851, 0.02404223196208477, 0.002844578819349408, -0.04433109611272812, 0.029494956135749817, 0.033691633492708206, 0.011910288594663143, -0.01075029093772173, 0.004920751787722111, 0.008696283213794231, 0.009797172620892525, -0.01236837636679411, 0.0066459705121815205, 0.0024788472801446915, 0.003601901698857546, -0.00533450860530138, -0.029258524999022484, 0.002266427269205451, -0.03280501067638397, 0.01835307478904724, 0.04607478901743889, 0.005766736809164286, -0.0323912538588047, 0.022461090236902237, 0.033573418855667114, -0.007588006090372801, 0.00022754320525564253, 0.029007315635681152, 0.009036155417561531, -0.002983113517984748, -0.0169049259275198, 0.012324045412242413, -0.0010630227625370026, 0.0008552207727916539, 0.018412182107567787, -0.022387204691767693, 0.011718186549842358, -0.009294752962887287, -0.009346473030745983, -0.003923302050679922, -0.013410156592726707, 0.012870795093476772, -0.004359224811196327, -0.018190527334809303, 0.014496268704533577, 0.008489404805004597, -0.010994112119078636, -0.04078460857272148, 0.01506518479436636, 0.01649116910994053, 0.013395380228757858, 0.03706079721450806, -0.0003558032331056893, -0.010572967119514942, -0.010166598483920097, 0.009878446348011494, 0.0005125782918184996, 0.021840453147888184, -0.0011895510833710432, 0.026391780003905296, 0.07518554478883743, -0.003941773436963558, 0.051926493644714355, 0.011607359163463116, 0.0035852775909006596, -0.045188166201114655, 0.021426696330308914, 0.00884405430406332, 0.010144433006644249, 0.010824176482856274, -0.0021574466954916716, -0.026125794276595116, -0.03197749704122543, 0.03726767748594284, -0.02256452850997448, 0.006169410888105631, -0.016003526747226715, -0.002916616853326559, -0.0075584519654512405, 0.022239433601498604, 0.008156921714544296, -0.012065446935594082, -0.016683269292116165, -0.026835091412067413, -0.052901774644851685, 0.040843717753887177, -0.021426696330308914, -0.012405319139361382, 0.0033968703355640173, -0.033307429403066635, 0.009871057234704494, -0.029938267543911934, 0.020022878423333168, -0.00028007093351334333, -0.0007540904334746301, -0.013055508024990559, -0.09398192912340164, 0.011577804572880268, 0.03475558012723923, -0.012183663435280323, 0.0038272514939308167, -0.0024843886494636536, 0.00919131375849247, -0.01114188227802515, -0.011644301936030388, 0.021145934239029884, -0.0168901477009058, -0.002752222353592515, -0.013321494683623314, -0.023835353553295135, 0.018574729561805725, 0.0026210760697722435, 0.00283534312620759, 0.007314631249755621, -0.02419000305235386, 0.026923753321170807, 0.02135281264781952, -0.008016539737582207, -0.0016282442957162857, 0.029081199318170547, -0.013277163729071617, -0.010284814983606339, -0.032361701130867004, 0.030352024361491203, 0.04527682811021805, -0.02188478596508503, 0.03806563466787338, 0.005567247048020363, -0.002994196256622672, -0.012604808434844017, 0.015707986429333687, 0.005360368639230728, -0.03283456712961197, -0.022062109783291817, -0.011563028208911419, 0.007159472443163395, 0.01609218865633011, 0.004196677356958389, -0.008075647987425327, 0.0472273975610733, 0.008319469168782234, -0.028002476319670677, 0.0005698393215425313, 0.021825676783919334, 0.028844768181443214, -0.0070117018185555935, 0.0031752148643136024, 0.010728125460445881, 0.0405186228454113, -0.015870532020926476, -0.01703791879117489, -0.005663297604769468, -0.060053858906030655, 0.0445675291121006, 0.03522844612598419, -0.008334246464073658, 0.03688347339630127, -0.01727435179054737, 0.010255260393023491, -0.02470719814300537, 0.006357818376272917, 0.006985842250287533, -0.04178944602608681, 0.016446836292743683, 0.005485973320901394, 3.483569889795035e-05, 0.03593774139881134, 0.03986843302845955, 0.013809137046337128, -0.03706079721450806, -0.053433749824762344, 0.004385084379464388, -0.022372426465153694, 0.0009207938564941287, 0.0008284373907372355, 0.02107204869389534, 0.018885048106312752, 0.016964033246040344, 0.020968608558177948, 0.015427221544086933, 0.01533855963498354, 0.018870269879698753, -0.02135281264781952, 0.007890935055911541, 0.02702719159424305, -0.025874583050608635, 0.02037752792239189, -0.002138975542038679, 0.0036296085454523563, 0.01236098725348711, 0.005253234878182411, 0.009612459689378738, 0.026539551094174385, -0.009834115393459797, -0.02538694255053997, 0.023938791826367378, 0.03768143430352211, -0.0135062076151371, -0.004976165480911732, 0.007706222590059042, 0.005744571331888437, -0.031002214178442955, -0.004743427503854036, -0.019387466832995415, -0.0012107931543141603, 0.004603045526891947, -0.02148580551147461, 0.02204733155667782, 0.03138641640543938, 0.040163975208997726, -0.0033506921026855707, 0.016432059928774834, 0.007207497488707304, 0.0222985427826643, 0.008674117736518383, -0.026111016049981117, -0.00733310217037797, 0.03001215308904648, -0.014348498545587063, 0.01006315927952528, -0.021441474556922913, -0.006210047751665115, 0.037090349942445755, -0.02890387549996376, 0.016432059928774834, -0.011134494096040726, 0.0002565200557000935, 0.03540576994419098, 0.014422384090721607, 0.032627686858177185, 0.035317108035087585, 0.03171151131391525, 0.03590818867087364, -0.017658554017543793, -0.020865170285105705, -0.003383940551429987, -0.0015349641907960176, 0.025475604459643364, 0.0063282642513513565, -0.016978809610009193, 0.037356339395046234, 0.008563290350139141, 0.0011202837340533733, 0.0337211899459362, -0.003280501114204526, 0.037770096212625504, 0.004015658516436815, -0.010484304279088974, -0.004747121594846249, -0.0035132395569235086, -0.043414920568466187, 0.022209879010915756, -0.014437160454690456, -0.019816000014543533, 0.02416044846177101, 0.02470719814300537, -0.014961745589971542, 0.0364992693066597, 0.02674642950296402, -0.022741852328181267, -0.002646935870870948, 0.004713873378932476, -0.0392182432115078, -0.025327833369374275, -0.017510782927274704, -0.004000881686806679, 0.00202814768999815, 0.009235645644366741, 0.031681958585977554, 0.018264412879943848, 0.018293965607881546, -0.01892937906086445, 0.009797172620892525, 0.002338465303182602, 0.008334246464073658, 0.002126045525074005, 0.0031050238758325577, 0.024825414642691612, -0.0010777998249977827, 0.012072835117578506, 0.047493383288383484, 0.04311938211321831, 0.05440903455018997, -0.022239433601498604, 0.00283534312620759, 0.00012260318908374757, 0.04164167866110802, 0.023421596735715866, 0.02133803442120552, -0.002177765127271414, 0.03623328357934952, 0.011260098777711391, 0.02783992886543274, 0.03120909258723259, 7.319248834392056e-05, -0.03064756467938423, 0.04226231202483177, -0.001963498303666711, 0.01155563909560442, -0.008334246464073658, 0.024677643552422523, -0.009376026690006256, -0.005907118786126375, -0.014023403637111187, 0.027086300775408745, 0.023451151326298714, -0.010580355301499367, 0.006365206558257341, -0.02133803442120552, -0.021160710602998734, -0.02093905583024025, -0.01634339801967144, 0.0002595216210465878, 0.028933430090546608, 0.013225443661212921, -0.02204733155667782, -0.023332934826612473, -0.0074845668859779835, 0.013772194273769855, 0.03448959439992905, 0.028534449636936188, 0.005401005502790213, -0.004543937277048826, 0.00689348578453064, 0.001329932943917811, 0.031681958585977554, -0.002597063547000289, -0.0017473840853199363, -0.011799460276961327, -0.015028242021799088, -0.01167385559529066, -0.03197749704122543, 0.02351025864481926, -0.00581106822937727, 0.046518098562955856, 0.011267486959695816, -0.003849416971206665, 0.024367326870560646, 0.02716018632054329, 0.0011636912822723389, -0.0023144527804106474, -0.01944657415151596, 0.010499081574380398, 0.020466189831495285, -0.0011932454071938992, 0.015176012180745602, 0.004348141606897116, 0.03576041758060455, -0.003934384789317846, -0.020909501239657402, -0.020599182695150375, 0.004466358106583357, -0.009656790643930435, -0.015412445180118084, 0.02011154033243656, 0.015309005975723267, -0.02079128473997116, 0.03904091939330101, 0.004876420833170414, 0.003210310358554125, -0.013343660160899162, -0.012139332480728626, 0.000943882972933352, 0.006058583501726389, 0.011038443073630333, 0.05742354691028595, 0.017244797199964523, -0.014511045999825, -0.004931834526360035, 0.019653452560305595, 0.020067209377884865, 0.014171173796057701, -0.032479915767908096, -0.010225706733763218, -3.480683881207369e-05, -0.030071260407567024, -0.021234596148133278, -0.04778892174363136, 0.03469647094607353, -0.022860068827867508, 0.051394518464803696, -0.0019025428919121623, -0.013713086023926735, -0.04483351483941078, 0.03354386240243912, -0.012139332480728626, 0.01236837636679411, -0.001415824401192367, 0.0068824030458927155, 0.04521771892905235, 0.00783921591937542, 0.011784682981669903, -0.0010851883562281728, 0.019653452560305595, 0.010306980460882187, -0.007370044942945242, 0.009220868349075317, 0.00766927981749177, 0.006516671273857355, 0.0022405674681067467, 0.04152346029877663, 0.023185163736343384, -0.014097289182245731, -0.0020133706275373697, -0.010757680051028728, 0.008467239327728748, 0.015382890589535236, -0.02702719159424305, -0.0018406640738248825, -0.017628999426960945, 0.016239957883954048, 0.008467239327728748, -0.0005933901993557811, 0.010026216506958008, -0.011806849390268326, 0.033573418855667114, 0.01194723043590784, -0.004385084379464388, 0.020599182695150375, -0.021663129329681396, 0.0175551138818264, 0.03413494676351547, 0.04687274619936943, -0.032332148402929306, -0.0014629261568188667, -0.0270124152302742, -0.03711990639567375, -0.021663129329681396, 0.019683007150888443, -0.007078198716044426, -0.026037130504846573, 0.0031179538927972317, 0.01582620106637478, 0.010861119255423546, -0.016949256882071495, -0.03744500130414963, 0.020717399194836617, -0.03188883513212204, -0.04672497510910034, -0.03038157895207405, -0.005637438036501408, 0.0052273753099143505, 0.03298233821988106, 0.021012939512729645, 0.00030639252508990467, -0.04716828837990761, 0.10196152329444885, -0.013055508024990559, 0.019121479243040085, 0.02257930487394333, -0.03313010558485985, 0.011563028208911419, 0.01581142470240593, -0.02510617859661579, 0.0013733404921367764, 0.00843029748648405, 0.01169602107256651, 0.01134137250483036, 0.036469716578722, 0.028475342318415642, 0.007547369226813316, -0.0005582947633229196, -0.03729723021388054, 0.008075647987425327, 0.007070810068398714, 0.00705972732976079, 0.02810591645538807, -0.02523917146027088, 0.01498391106724739, 0.004584574140608311, -0.005559858400374651, -0.019623899832367897, 0.015604546293616295, -0.002138975542038679, 0.008733225986361504, 0.030219031497836113, 0.013277163729071617, -0.01175512932240963, 0.03339609503746033, 0.0036517742555588484, -0.00972328707575798, 0.004846866708248854, -0.012989011593163013, 0.013683532364666462, 0.000900013605132699, -0.009206091053783894, -0.006520365364849567, -0.00864456407725811, -0.022313319146633148, 0.016047857701778412, -0.0040562953799963, 0.008866219781339169, -0.01189551129937172, 0.0035668062046170235, -0.0007268452900461853, 0.003816168522462249, -0.020835615694522858, -0.03419405221939087, 0.003867888357490301, -0.037888310849666595, -0.007580617442727089, 0.017451675608754158, 0.03711990639567375, 0.04447886720299721, 0.005851704627275467, 0.03862716257572174, -0.012264937162399292, 0.008592844009399414, -0.004658459685742855, 0.04119836539030075, 0.01660938374698162, -0.024263886734843254, 0.005622660741209984, -0.01148175448179245, -0.028135469183325768, 0.01822008192539215, 0.008400742895901203, -0.005393616855144501, -0.003694258164614439, -0.039100028574466705, 0.02040708251297474, -0.003389481920748949, 0.021914338693022728, -0.005256929434835911, -0.010151821188628674, 0.019239695742726326, 0.00359820737503469, 0.0250027384608984, 0.019771669059991837, 0.015752317383885384, -0.01632862165570259, -0.004669542424380779, -0.010838953778147697, 0.01754033751785755, 0.009412969462573528, -0.0038235571701079607, -0.02187000773847103, 0.009154371917247772, 0.05361107364296913, -0.018160972744226456, 0.008999212644994259, -0.012604808434844017, -0.05485234409570694, 0.008762780576944351, 0.00297203054651618, 0.0026949613820761442, 0.017481230199337006, 0.0026007576379925013, -0.01154086273163557, -0.020436635240912437, -0.030854443088173866, -0.018456513062119484, 0.02662821300327778, -0.01929880492389202, -0.01619562692940235, -0.014836140908300877, 0.025150509551167488, -0.0015331171452999115, 0.015604546293616295, 0.04258740693330765, 0.029155084863305092, -0.0011812390293926, 0.012774745002388954, 0.023066947236657143, -0.013949519023299217, -0.018279189243912697, 0.008947493508458138, 0.017880208790302277, 0.003938079345971346, -0.007809661794453859, 0.020081987604498863, -0.00739590497687459, 0.025150509551167488, 0.042912501841783524, 0.006213742308318615, -0.015619323588907719, -0.029923491179943085, 0.01539766788482666, 0.03197749704122543, 0.00830469187349081, 0.019239695742726326, 0.028194578364491463, 0.004425721243023872, -0.012678693979978561, 0.006424314808100462, -0.003367316210642457, -0.026775982230901718, -0.040991488844156265, -0.01754033751785755, -0.005086993332952261, 0.00394916208460927, 0.007240745704621077, 0.015072572976350784, 0.00756214652210474, -0.005375145468860865, 0.020333196967840195, 0.04013441875576973, 0.0310613214969635, 0.009309530258178711, -0.018958931788802147, 0.011910288594663143, -0.03386895731091499, 0.02606668509542942, 0.0034134944435209036, -0.0034356601536273956, 0.023170387372374535, 0.020894723013043404, -0.010624686256051064, -0.06395499408245087, -0.005881258752197027, 0.004669542424380779, 0.0013751875376328826, -0.010558189824223518, 0.012878184206783772, 0.00027799292001873255, 0.02334771119058132, -0.009560739621520042, 0.03904091939330101, -0.00642062071710825, 0.019668230786919594, -0.0004689398920163512, -0.0036554683465510607, 0.007074504159390926, 0.020185425877571106, -0.03853850066661835, -0.0013992002932354808, -0.003540946403518319, -0.017776770517230034, -0.03416449949145317, -0.004329670686274767, 0.017998425289988518, 0.016845816746354103, -0.02052529901266098, -0.02822413295507431, 0.006649664603173733, 0.0033192909322679043, 0.012109777890145779, -0.025061847642064095, 0.009775007143616676, 0.004913363140076399, -0.00959029421210289, 0.015589768998324871, 0.010720737278461456, 0.001024233060888946, -0.02862311154603958, 0.015870532020926476, 0.014754867181181908, 0.02105727046728134, -0.029095977544784546, 0.03038157895207405, 0.014850917272269726, 0.0010879590408876538, 0.009575516916811466, -0.01918058842420578, -0.005327120423316956, -0.004159734584391117, 0.018397405743598938, 0.045601923018693924, 0.014880471862852573, 0.005740877240896225, 0.015235120430588722, -0.022771406918764114, -0.008400742895901203, 0.0337211899459362, 0.007580617442727089, -0.02082083933055401, 0.014850917272269726, -0.02554949000477791, -0.00452916044741869, -0.006394760683178902, 0.02770693600177765, -0.019919440150260925, 0.006815906148403883, -0.0028759799897670746, 0.020584406331181526, 0.00037658342625945807, 0.010255260393023491, -0.003967633005231619, -0.02851967327296734, -0.05145362764596939, 0.017392566427588463, 0.025032293051481247, 0.027337510138750076, 0.03091355226933956, 0.005171961151063442, -0.02389446087181568, 0.002526872558519244, -0.04282383993268013, -0.03227303922176361, 0.008725837804377079, -0.010018828324973583, 0.02011154033243656, -0.0026247703935950994, 0.024662867188453674, -0.00019822003378067166, 0.013484042137861252, -0.019269250333309174, -0.0009780548280104995, 0.0009231027215719223, 0.017363013699650764, -0.027189739048480988, -0.04279428720474243, -0.0010584049159660935, -0.033425647765398026, 0.028593556955456734, -0.02120504155755043, -0.012412707321345806, 0.008216029964387417, 0.006904568523168564, 0.004325976129621267, 0.03744500130414963, 0.0029387823306024075, -0.009575516916811466, 0.008814499713480473, -0.003816168522462249, -0.01919536478817463, -0.012471815571188927, -0.009509020484983921, -0.001426907256245613, 0.02271229960024357, -0.024751529097557068, -0.00675310380756855, -0.02851967327296734, 0.0069193453527987, 0.026642989367246628, -0.017510782927274704, -0.02744094841182232, 0.04199632629752159, -0.01906237192451954, -0.038715824484825134, 0.03182972967624664, 0.014422384090721607, 0.0036683983635157347, 0.0001746691414155066, 0.05984698235988617, 0.029391517862677574, -0.0034707554150372744, 0.03457825630903244, -0.042616963386535645, -0.004403555765748024, 0.018589505925774574, -0.006838071625679731, 0.01026264950633049, -0.020214980468153954, 0.0006621957872994244, -0.00530495448037982, 0.018796386197209358, -0.037888310849666595, 0.005615272559225559, -0.006716161035001278, -0.012826464138925076, 0.011843791231513023, 0.019357912242412567, 0.016505945473909378, 0.015515884384512901, -0.005969921126961708, 0.009486855007708073, -0.002502859802916646, 4.347246886027278e-06, 0.01208761241286993, 0.01545677613466978, 0.002187000820413232, 0.04376957193017006, -0.010491693392395973, -0.0009175613522529602, 0.036410607397556305, -0.0025416496209800243, -0.0445675291121006, 0.028445787727832794, 0.02484019100666046, -0.01566365361213684, -0.010011439211666584, -0.005452725104987621, 0.025608597323298454, 0.0019173199543729424, 0.014969133771955967, 0.0035575705114752054, -0.02011154033243656, 0.011356149800121784, -0.01662416197359562, 0.012767355889081955, 0.021264148876070976, -0.0040710726752877235, -0.04947350546717644, 0.03218437731266022, 0.00645017484202981, 0.030292917042970657, 0.01947612874209881, 0.020643513649702072, 0.033839404582977295, -0.025726813822984695, 0.03711990639567375, 0.022727075964212418, -0.009989273734390736, 0.004880114924162626, 0.0039048308972269297, 0.006346735637634993, 0.04158256947994232, -0.016180850565433502, 0.011267486959695816, -0.0023070641327649355, 0.020584406331181526, 0.012457038275897503, 0.0035095452331006527, 0.001499868812970817, -0.029627950862050056, 0.013912576250731945, -0.038568053394556046, 0.01758466847240925, -0.017392566427588463, -0.031415972858667374, 0.07406248897314072, 0.0010759526630863547, -0.04849822074174881, 0.02215077169239521, 0.021160710602998734, 0.005999475251883268, 0.004721262026578188, -0.00830469187349081, 0.045040395110845566, -0.012597420252859592, 0.01372047420591116, 0.0041819000616669655, 0.02659865841269493, -0.008666729554533958, -0.011585193686187267, 0.029509734362363815, -0.007351573556661606, 0.0162251815199852, 0.03998665139079094, 0.011799460276961327, 0.0028722856659442186, -0.017628999426960945, -0.011260098777711391, -0.0023310768883675337]\n"
          ]
        }
      ],
      "source": [
        "print(\"First embedding:\", embeddings[0])"
      ]
    },
    {
      "cell_type": "markdown",
      "metadata": {
        "id": "29YsciMeN5iK"
      },
      "source": [
        "Control output"
      ]
    },
    {
      "cell_type": "code",
      "execution_count": null,
      "metadata": {
        "colab": {
          "base_uri": "https://localhost:8080/"
        },
        "id": "SE3IiSUplYee",
        "outputId": "ea98f53d-f80d-4869-b85c-3b040afd01ed"
      },
      "outputs": [
        {
          "output_type": "stream",
          "name": "stdout",
          "text": [
            "Number of chunks: 10000\n",
            "Number of embeddings: 10000\n"
          ]
        }
      ],
      "source": [
        "# Check the lengths of the chunks and embeddings\n",
        "num_chunks = len(chunks)\n",
        "print(f\"Number of chunks: {num_chunks}\")\n",
        "print(f\"Number of embeddings: {len(embeddings)}\")"
      ]
    },
    {
      "cell_type": "code",
      "execution_count": null,
      "metadata": {
        "colab": {
          "base_uri": "https://localhost:8080/"
        },
        "id": "FMbbPm2csDMK",
        "outputId": "16d3c086-aae0-40dd-f64f-30ab224ee776"
      },
      "outputs": [
        {
          "output_type": "stream",
          "name": "stdout",
          "text": [
            "Total size 50000\n",
            "Number of duplicated chunks: 50000\n",
            "Number of duplicated embeddings: 50000\n"
          ]
        }
      ],
      "source": [
        "# Define the duplication size\n",
        "dsize = 5  # You can set this to any value between 1 and n as per your experimentation requirements\n",
        "total=dsize * len(chunks)\n",
        "print(\"Total size\", total)\n",
        "# Initialize new lists for duplicated chunks and embeddings\n",
        "duplicated_chunks = []\n",
        "duplicated_embeddings = []\n",
        "\n",
        "# Loop through the original lists and duplicate each entry\n",
        "for i in range(len(chunks)):\n",
        "    for _ in range(dsize):\n",
        "        duplicated_chunks.append(chunks[i])\n",
        "        duplicated_embeddings.append(embeddings[i])\n",
        "\n",
        "# Checking the lengths of the duplicated lists\n",
        "print(f\"Number of duplicated chunks: {len(duplicated_chunks)}\")\n",
        "print(f\"Number of duplicated embeddings: {len(duplicated_embeddings)}\")"
      ]
    },
    {
      "cell_type": "markdown",
      "metadata": {
        "id": "XswfiN5Z1OvT"
      },
      "source": [
        "#  The Pinecone index"
      ]
    },
    {
      "cell_type": "code",
      "execution_count": null,
      "metadata": {
        "id": "nOSA_Spit_xq"
      },
      "outputs": [],
      "source": [
        "import os\n",
        "from pinecone import Pinecone, ServerlessSpec\n",
        "\n",
        "# initialize connection to pinecone (get API key at app.pinecone.io)\n",
        "api_key = os.environ.get('PINECONE_API_KEY') or 'PINECONE_API_KEY'\n",
        "\n",
        "from pinecone import Pinecone, ServerlessSpec\n",
        "pc = Pinecone(api_key=PINECONE_API_KEY)"
      ]
    },
    {
      "cell_type": "code",
      "execution_count": null,
      "metadata": {
        "id": "P---PNLpXeQs"
      },
      "outputs": [],
      "source": [
        "from pinecone import ServerlessSpec\n",
        "\n",
        "index_name = 'bank-index-50000'\n",
        "cloud = os.environ.get('PINECONE_CLOUD') or 'aws'\n",
        "region = os.environ.get('PINECONE_REGION') or 'us-east-1'\n",
        "\n",
        "spec = ServerlessSpec(cloud=cloud, region=region)"
      ]
    },
    {
      "cell_type": "code",
      "execution_count": null,
      "metadata": {
        "colab": {
          "base_uri": "https://localhost:8080/"
        },
        "id": "jO7AYljM0gq1",
        "outputId": "329e25de-494b-4f11-91b6-62c46b80d8b8"
      },
      "outputs": [
        {
          "output_type": "execute_result",
          "data": {
            "text/plain": [
              "{'dimension': 1536,\n",
              " 'index_fullness': 0.0,\n",
              " 'namespaces': {},\n",
              " 'total_vector_count': 0}"
            ]
          },
          "metadata": {},
          "execution_count": 22
        }
      ],
      "source": [
        "import time\n",
        "import pinecone\n",
        "# check if index already exists (it shouldn't if this is first time)\n",
        "if index_name not in pc.list_indexes().names():\n",
        "    # if does not exist, create index\n",
        "    pc.create_index(\n",
        "        index_name,\n",
        "        dimension=1536,  # dimension of the embedding model\n",
        "        metric='cosine',\n",
        "        spec=spec\n",
        "    )\n",
        "    # wait for index to be initialized\n",
        "    time.sleep(1)\n",
        "\n",
        "# connect to index\n",
        "index = pc.Index(index_name)\n",
        "# view index stats\n",
        "index.describe_index_stats()"
      ]
    },
    {
      "cell_type": "markdown",
      "metadata": {
        "id": "FrWqU-Ri115e"
      },
      "source": [
        "# Upserting"
      ]
    },
    {
      "cell_type": "code",
      "execution_count": null,
      "metadata": {
        "id": "c2kXmv83j1V_"
      },
      "outputs": [],
      "source": [
        "# upsert function\n",
        "def upsert_to_pinecone(data, batch_size):\n",
        "    for i in range(0, len(data), batch_size):\n",
        "        batch = data[i:i+batch_size]\n",
        "        index.upsert(vectors=batch)\n",
        "        #time.sleep(1)  # Optional: add delay to avoid rate limits"
      ]
    },
    {
      "cell_type": "code",
      "execution_count": null,
      "metadata": {
        "colab": {
          "base_uri": "https://localhost:8080/"
        },
        "id": "iUwvjba62iVT",
        "outputId": "5a6ae972-9113-4ade-902c-b139e6f4062f"
      },
      "outputs": [
        {
          "output_type": "stream",
          "name": "stdout",
          "text": [
            "Upserted 316/50000 items...\n",
            "Upserted 632/50000 items...\n",
            "Upserted 948/50000 items...\n",
            "Upserted 1264/50000 items...\n",
            "Upserted 1580/50000 items...\n",
            "Upserted 1896/50000 items...\n",
            "Upserted 2212/50000 items...\n",
            "Upserted 2528/50000 items...\n",
            "Upserted 2844/50000 items...\n",
            "Upserted 3160/50000 items...\n",
            "Upserted 3476/50000 items...\n",
            "Upserted 3792/50000 items...\n",
            "Upserted 4108/50000 items...\n",
            "Upserted 4424/50000 items...\n",
            "Upserted 4740/50000 items...\n",
            "Upserted 5056/50000 items...\n",
            "Upserted 5372/50000 items...\n",
            "Upserted 5688/50000 items...\n",
            "Upserted 6004/50000 items...\n",
            "Upserted 6320/50000 items...\n",
            "Upserted 6636/50000 items...\n",
            "Upserted 6952/50000 items...\n",
            "Upserted 7268/50000 items...\n",
            "Upserted 7584/50000 items...\n",
            "Upserted 7900/50000 items...\n",
            "Upserted 8216/50000 items...\n",
            "Upserted 8532/50000 items...\n",
            "Upserted 8848/50000 items...\n",
            "Upserted 9164/50000 items...\n",
            "Upserted 9480/50000 items...\n",
            "Upserted 9796/50000 items...\n",
            "Upserted 10112/50000 items...\n",
            "Upserted 10428/50000 items...\n",
            "Upserted 10744/50000 items...\n",
            "Upserted 11060/50000 items...\n",
            "Upserted 11376/50000 items...\n",
            "Upserted 11692/50000 items...\n",
            "Upserted 12008/50000 items...\n",
            "Upserted 12324/50000 items...\n",
            "Upserted 12640/50000 items...\n",
            "Upserted 12956/50000 items...\n",
            "Upserted 13272/50000 items...\n",
            "Upserted 13588/50000 items...\n",
            "Upserted 13904/50000 items...\n",
            "Upserted 14220/50000 items...\n",
            "Upserted 14536/50000 items...\n",
            "Upserted 14852/50000 items...\n",
            "Upserted 15168/50000 items...\n",
            "Upserted 15484/50000 items...\n",
            "Upserted 15800/50000 items...\n",
            "Upserted 16116/50000 items...\n",
            "Upserted 16432/50000 items...\n",
            "Upserted 16748/50000 items...\n",
            "Upserted 17064/50000 items...\n",
            "Upserted 17380/50000 items...\n",
            "Upserted 17696/50000 items...\n",
            "Upserted 18012/50000 items...\n",
            "Upserted 18328/50000 items...\n",
            "Upserted 18644/50000 items...\n",
            "Upserted 18960/50000 items...\n",
            "Upserted 19276/50000 items...\n",
            "Upserted 19592/50000 items...\n",
            "Upserted 19908/50000 items...\n",
            "Upserted 20224/50000 items...\n",
            "Upserted 20540/50000 items...\n",
            "Upserted 20856/50000 items...\n",
            "Upserted 21172/50000 items...\n",
            "Upserted 21488/50000 items...\n",
            "Upserted 21804/50000 items...\n",
            "Upserted 22120/50000 items...\n",
            "Upserted 22436/50000 items...\n",
            "Upserted 22752/50000 items...\n",
            "Upserted 23068/50000 items...\n",
            "Upserted 23384/50000 items...\n",
            "Upserted 23700/50000 items...\n",
            "Upserted 24016/50000 items...\n",
            "Upserted 24332/50000 items...\n",
            "Upserted 24648/50000 items...\n",
            "Upserted 24964/50000 items...\n",
            "Upserted 25280/50000 items...\n",
            "Upserted 25596/50000 items...\n",
            "Upserted 25912/50000 items...\n",
            "Upserted 26228/50000 items...\n",
            "Upserted 26544/50000 items...\n",
            "Upserted 26860/50000 items...\n",
            "Upserted 27176/50000 items...\n",
            "Upserted 27492/50000 items...\n",
            "Upserted 27808/50000 items...\n",
            "Upserted 28124/50000 items...\n",
            "Upserted 28440/50000 items...\n",
            "Upserted 28756/50000 items...\n",
            "Upserted 29072/50000 items...\n",
            "Upserted 29388/50000 items...\n",
            "Upserted 29704/50000 items...\n",
            "Upserted 30020/50000 items...\n",
            "Upserted 30336/50000 items...\n",
            "Upserted 30652/50000 items...\n",
            "Upserted 30968/50000 items...\n",
            "Upserted 31284/50000 items...\n",
            "Upserted 31600/50000 items...\n",
            "Upserted 31916/50000 items...\n",
            "Upserted 32232/50000 items...\n",
            "Upserted 32548/50000 items...\n",
            "Upserted 32864/50000 items...\n",
            "Upserted 33180/50000 items...\n",
            "Upserted 33496/50000 items...\n",
            "Upserted 33812/50000 items...\n",
            "Upserted 34128/50000 items...\n",
            "Upserted 34444/50000 items...\n",
            "Upserted 34760/50000 items...\n",
            "Upserted 35076/50000 items...\n",
            "Upserted 35392/50000 items...\n",
            "Upserted 35708/50000 items...\n",
            "Upserted 36024/50000 items...\n",
            "Upserted 36340/50000 items...\n",
            "Upserted 36656/50000 items...\n",
            "Upserted 36972/50000 items...\n",
            "Upserted 37288/50000 items...\n",
            "Upserted 37604/50000 items...\n",
            "Upserted 37920/50000 items...\n",
            "Upserted 38236/50000 items...\n",
            "Upserted 38552/50000 items...\n",
            "Upserted 38868/50000 items...\n",
            "Upserted 39184/50000 items...\n",
            "Upserted 39500/50000 items...\n",
            "Upserted 39816/50000 items...\n",
            "Upserted 40132/50000 items...\n",
            "Upserted 40448/50000 items...\n",
            "Upserted 40764/50000 items...\n",
            "Upserted 41080/50000 items...\n",
            "Upserted 41396/50000 items...\n",
            "Upserted 41712/50000 items...\n",
            "Upserted 42028/50000 items...\n",
            "Upserted 42344/50000 items...\n",
            "Upserted 42660/50000 items...\n",
            "Upserted 42976/50000 items...\n",
            "Upserted 43292/50000 items...\n",
            "Upserted 43608/50000 items...\n",
            "Upserted 43924/50000 items...\n",
            "Upserted 44240/50000 items...\n",
            "Upserted 44556/50000 items...\n",
            "Upserted 44872/50000 items...\n",
            "Upserted 45188/50000 items...\n",
            "Upserted 45504/50000 items...\n",
            "Upserted 45820/50000 items...\n",
            "Upserted 46136/50000 items...\n",
            "Upserted 46452/50000 items...\n",
            "Upserted 46768/50000 items...\n",
            "Upserted 47084/50000 items...\n",
            "Upserted 47400/50000 items...\n",
            "Upserted 47716/50000 items...\n",
            "Upserted 48032/50000 items...\n",
            "Upserted 48348/50000 items...\n",
            "Upserted 48664/50000 items...\n",
            "Upserted 48980/50000 items...\n",
            "Upserted 49296/50000 items...\n",
            "Upserted 49612/50000 items...\n",
            "Upserted 49928/50000 items...\n",
            "Upserted 50000/50000 items...\n",
            "Upsert complete.\n",
            "Upsertion response time: 562.02 seconds\n"
          ]
        }
      ],
      "source": [
        "import pinecone\n",
        "import time\n",
        "import sys\n",
        "\n",
        "start_time = time.time()  # Start timing before the request\n",
        "\n",
        "# Function to calculate the size of a batch\n",
        "def get_batch_size(data, limit=4000000):  # limit set to 4MB to be safe\n",
        "    total_size = 0\n",
        "    batch_size = 0\n",
        "    for item in data:\n",
        "        item_size = sum([sys.getsizeof(v) for v in item.values()])\n",
        "        if total_size + item_size > limit:\n",
        "            break\n",
        "        total_size += item_size\n",
        "        batch_size += 1\n",
        "    return batch_size\n",
        "\n",
        "def batch_upsert(data):\n",
        "    total = len(data)\n",
        "    i = 0\n",
        "    while i < total:\n",
        "        batch_size = get_batch_size(data[i:])\n",
        "        batch = data[i:i + batch_size]\n",
        "        if batch:\n",
        "            upsert_to_pinecone(batch,batch_size)\n",
        "            i += batch_size\n",
        "            print(f\"Upserted {i}/{total} items...\")  # Display current progress\n",
        "        else:\n",
        "            break\n",
        "    print(\"Upsert complete.\")\n",
        "\n",
        "# Generate IDs for each data item\n",
        "ids = [str(i) for i in range(1, len(duplicated_chunks) + 1)]\n",
        "\n",
        "# Prepare data for upsert\n",
        "data_for_upsert = [\n",
        "    {\"id\": str(id), \"values\": emb, \"metadata\": {\"text\": chunk}}\n",
        "    for id, (chunk, emb) in zip(ids, zip(duplicated_chunks, duplicated_embeddings))\n",
        "]\n",
        "\n",
        "# Upsert data in batches\n",
        "batch_upsert(data_for_upsert)\n",
        "\n",
        "response_time = time.time() - start_time  # Measure response time\n",
        "print(f\"Upsertion response time: {response_time:.2f} seconds\")  # Print response time"
      ]
    },
    {
      "cell_type": "code",
      "execution_count": null,
      "metadata": {
        "id": "xcM6mf7hvqCU"
      },
      "outputs": [],
      "source": [
        "print(\"Index stats\")\n",
        "print(index.describe_index_stats(include_metadata=True))"
      ]
    },
    {
      "cell_type": "markdown",
      "metadata": {
        "id": "RjZQjENc3gd8"
      },
      "source": [
        "## Querying the index"
      ]
    },
    {
      "cell_type": "code",
      "execution_count": null,
      "metadata": {
        "id": "tpOyd2snbY0G"
      },
      "outputs": [],
      "source": [
        "# Print the query results along with metadata\n",
        "def display_results(query_results):\n",
        "  for match in query_results['matches']:\n",
        "    print(f\"ID: {match['id']}, Score: {match['score']}\")\n",
        "    if 'metadata' in match and 'text' in match['metadata']:\n",
        "        print(f\"Text: {match['metadata']['text']}\")\n",
        "    else:\n",
        "        print(\"No metadata available.\")"
      ]
    },
    {
      "cell_type": "code",
      "execution_count": null,
      "metadata": {
        "id": "DT6wytGz5hTS"
      },
      "outputs": [],
      "source": [
        "embedding_model = \"text-embedding-3-small\"\n",
        "def get_embedding(text, model=embedding_model):\n",
        "    text = text.replace(\"\\n\", \" \")\n",
        "    response = client.embeddings.create(input=[text], model=model)\n",
        "    embedding = response.data[0].embedding\n",
        "    return embedding"
      ]
    },
    {
      "cell_type": "code",
      "execution_count": null,
      "metadata": {
        "colab": {
          "base_uri": "https://localhost:8080/"
        },
        "id": "D9yhZEvStqye",
        "outputId": "07233bfa-8d35-43ce-c507-85a6ec8ab1d2"
      },
      "outputs": [
        {
          "output_type": "stream",
          "name": "stdout",
          "text": [
            "Querying vector store\n",
            "processed query results\n",
            "ID: 1686, Score: 0.824501634\n",
            "Text: CustomerId: 15648064 CreditScore: 649 Age: 33 Tenure: 2 Balance: 0.0 NumOfProducts: 2 HasCrCard: 1 IsActiveMember: 0 EstimatedSalary: 2010.98 Exited: 0 Complain: 0 Satisfaction Score: 3 Card Type: DIAMOND Point Earned: 720\n",
            "Querying response time: 0.29 seconds\n"
          ]
        }
      ],
      "source": [
        "import openai\n",
        "# Initialize the OpenAI client\n",
        "client = openai.OpenAI()\n",
        "\n",
        "print(\"Querying vector store\")\n",
        "start_time = time.time()  # Start timing before the request\n",
        "query_text = \"Customer Robertson CreditScore 632Age 21 Tenure 2Balance 0.0NumOfProducts 1HasCrCard 1IsActiveMember 1EstimatedSalary 99000 Exited 1Complain 1Satisfaction Score 2Card Type DIAMONDPoint Earned 399\"\n",
        "query_embedding = get_embedding(query_text,model=embedding_model)\n",
        "query_results = index.query(vector=query_embedding, top_k=1, include_metadata=True)  # Request metadata\n",
        "#print(\"raw query_results\",query_results)\n",
        "print(\"processed query results\")\n",
        "display_results(query_results) #display results\n",
        "response_time = time.time() - start_time              # Measure response time\n",
        "print(f\"Querying response time: {response_time:.2f} seconds\")  # Print response time"
      ]
    },
    {
      "cell_type": "code",
      "execution_count": null,
      "metadata": {
        "id": "Pv0VrkncAHQ9"
      },
      "outputs": [],
      "source": [
        "# Close the Pinecone client (optional but good practice)\n",
        "#pc.deinit()"
      ]
    }
  ],
  "metadata": {
    "colab": {
      "collapsed_sections": [
        "8QGI1D8FVrT6"
      ],
      "provenance": [],
      "toc_visible": true
    },
    "gpuClass": "standard",
    "kernelspec": {
      "display_name": "Python 3",
      "name": "python3"
    },
    "language_info": {
      "name": "python"
    }
  },
  "nbformat": 4,
  "nbformat_minor": 0
}