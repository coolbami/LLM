{
  "cells": [
    {
      "cell_type": "markdown",
      "metadata": {
        "id": "YMfhL3l9Nj-S"
      },
      "source": [
        "# Hybrid Adaptive RAG-driven Generative AI\n",
        "\n",
        "Copyright 2024, Denis Rothman\n",
        "\n",
        "\n",
        "- **Program Overview**: The code involves retrieving and processing data for generative AI, focusing on Hybrid Adaptive Retrieval Augmented Generation (RAG) through human feedback for Generative AI content creation.\n",
        "  \n",
        "- **Retriever Phase**:\n",
        "  - **Data Preparation**: Fetches and cleans articles from Wikipedia related to LLMs and prompt engineering using BeautifulSoup to parse HTML and extract clean text.\n",
        "\n",
        "- **Generator Phase**:\n",
        "  - **User Input Handling**: Takes user queries, matches them to predefined keywords, and retrieves cleaned article content.\n",
        "  - **Content Generation**: Based on user ranking, modifies input data (adding human feedback if needed) and generates responses using OpenAI's GPT-4 model.\n",
        "  - **Performance Measurement**: Includes a response time tracker and a content generation block that uses a complex GPT model to provide enhanced responses.\n",
        "\n",
        "- **Evaluator Phase**:\n",
        "  - **Cosine Similarity Calculation**: Measures textual similarity between input and generated content to ensure relevance.\n",
        "  - **User and Expert Feedback**: Collects and processes user ratings to evaluate response quality, potentially triggering a expert feedback loop for content improvement.\n",
        "\n",
        "\n"
      ]
    },
    {
      "cell_type": "markdown",
      "metadata": {
        "id": "ZlzWWXNbX5zC"
      },
      "source": [
        "# 1.RETRIEVER"
      ]
    },
    {
      "cell_type": "markdown",
      "metadata": {
        "id": "ozeKE9KS8xXm"
      },
      "source": [
        "## Github requests.py\n",
        "\n",
        "Script to download files from the GitHub repository.\n"
      ]
    },
    {
      "cell_type": "code",
      "execution_count": 17,
      "metadata": {
        "colab": {
          "base_uri": "https://localhost:8080/"
        },
        "id": "SxqIxsO674vx",
        "outputId": "82a4e862-de86-4f44-ed31-bbe4a3478b32"
      },
      "outputs": [
        {
          "output_type": "stream",
          "name": "stdout",
          "text": [
            "Download successful.\n"
          ]
        }
      ],
      "source": [
        "import subprocess\n",
        "\n",
        "url = \"https://raw.githubusercontent.com/Denis2054/RAG-Driven-Generative-AI/main/commons/grequests.py\"\n",
        "output_file = \"grequests.py\"\n",
        "\n",
        "# Prepare the curl command\n",
        "curl_command = [\n",
        "    \"curl\",\n",
        "    \"-o\", output_file,\n",
        "    url\n",
        "]\n",
        "\n",
        "# Execute the curl command\n",
        "try:\n",
        "    subprocess.run(curl_command, check=True)\n",
        "    print(\"Download successful.\")\n",
        "except subprocess.CalledProcessError:\n",
        "    print(\"Failed to download the file.\")\n"
      ]
    },
    {
      "cell_type": "markdown",
      "metadata": {
        "id": "QE7BlcRs_VTr"
      },
      "source": [
        "## 1.1.Installing the retriever's environment"
      ]
    },
    {
      "cell_type": "code",
      "execution_count": null,
      "metadata": {
        "colab": {
          "base_uri": "https://localhost:8080/"
        },
        "id": "s0ATWjoS-3Hi",
        "outputId": "46b799bc-789e-41b4-aae8-8c03471553ec"
      },
      "outputs": [
        {
          "output_type": "stream",
          "name": "stdout",
          "text": [
            "Requirement already satisfied: requests==2.32.3 in /usr/local/lib/python3.10/dist-packages (2.32.3)\n",
            "Requirement already satisfied: charset-normalizer<4,>=2 in /usr/local/lib/python3.10/dist-packages (from requests==2.32.3) (3.3.2)\n",
            "Requirement already satisfied: idna<4,>=2.5 in /usr/local/lib/python3.10/dist-packages (from requests==2.32.3) (3.7)\n",
            "Requirement already satisfied: urllib3<3,>=1.21.1 in /usr/local/lib/python3.10/dist-packages (from requests==2.32.3) (2.0.7)\n",
            "Requirement already satisfied: certifi>=2017.4.17 in /usr/local/lib/python3.10/dist-packages (from requests==2.32.3) (2024.7.4)\n"
          ]
        }
      ],
      "source": [
        "!pip install requests==2.32.3"
      ]
    },
    {
      "cell_type": "code",
      "execution_count": null,
      "metadata": {
        "colab": {
          "base_uri": "https://localhost:8080/"
        },
        "id": "zRONA19W8Lpe",
        "outputId": "c6029315-551b-4118-d879-5df6a6a965ee"
      },
      "outputs": [
        {
          "output_type": "stream",
          "name": "stdout",
          "text": [
            "Requirement already satisfied: beautifulsoup4==4.12.3 in /usr/local/lib/python3.10/dist-packages (4.12.3)\n",
            "Requirement already satisfied: soupsieve>1.2 in /usr/local/lib/python3.10/dist-packages (from beautifulsoup4==4.12.3) (2.5)\n"
          ]
        }
      ],
      "source": [
        "!pip install beautifulsoup4==4.12.3"
      ]
    },
    {
      "cell_type": "markdown",
      "metadata": {
        "id": "n6wiBvOkEKoy"
      },
      "source": [
        "## 1.2.1 Preparing the dataset"
      ]
    },
    {
      "cell_type": "markdown",
      "metadata": {
        "id": "SKTmwMqJbQZK"
      },
      "source": [
        "Defining the dataset with labels and documents"
      ]
    },
    {
      "cell_type": "code",
      "execution_count": null,
      "metadata": {
        "id": "Y2igFoK_bO6k"
      },
      "outputs": [],
      "source": [
        "import requests\n",
        "from bs4 import BeautifulSoup\n",
        "import re\n",
        "\n",
        "# URLs of the Wikipedia articles mapped to keywords\n",
        "urls = {\n",
        "    \"prompt engineering\": \"https://en.wikipedia.org/wiki/Prompt_engineering\",\n",
        "    \"artificial intelligence\":\"https://en.wikipedia.org/wiki/Artificial_intelligence\",\n",
        "    \"llm\": \"https://en.wikipedia.org/wiki/Large_language_model\",\n",
        "    \"llms\": \"https://en.wikipedia.org/wiki/Large_language_model\"\n",
        "}"
      ]
    },
    {
      "cell_type": "markdown",
      "metadata": {
        "id": "5vZkpbaNeHvP"
      },
      "source": [
        "## 1.2.2.Processing the data"
      ]
    },
    {
      "cell_type": "code",
      "execution_count": null,
      "metadata": {
        "id": "_lvsHvQL85Vw"
      },
      "outputs": [],
      "source": [
        "def fetch_and_clean(url):\n",
        "    # Fetch the content of the URL\n",
        "    response = requests.get(url)\n",
        "    soup = BeautifulSoup(response.content, 'html.parser')\n",
        "\n",
        "    # Find the main content of the article, ignoring side boxes and headers\n",
        "    content = soup.find('div', {'class': 'mw-parser-output'})\n",
        "\n",
        "    # Remove less relevant sections such as \"See also\", \"References\", etc.\n",
        "    for section_title in ['References', 'Bibliography', 'External links', 'See also']:\n",
        "        section = content.find('span', {'id': section_title})\n",
        "        if section:\n",
        "            for sib in section.parent.find_next_siblings():\n",
        "                sib.decompose()\n",
        "            section.parent.decompose()\n",
        "\n",
        "    # Focus on extracting and cleaning text from paragraph tags only\n",
        "    paragraphs = content.find_all('p')\n",
        "    cleaned_text = ' '.join(paragraph.get_text(separator=' ', strip=True) for paragraph in paragraphs)\n",
        "    cleaned_text = re.sub(r'\\[\\d+\\]', '', cleaned_text)  # Remove citation markers like [1], [2], etc.\n",
        "\n",
        "    return cleaned_text"
      ]
    },
    {
      "cell_type": "markdown",
      "metadata": {
        "id": "yJrR0y1GFxwd"
      },
      "source": [
        "## 1.3. The retrieval process for user input"
      ]
    },
    {
      "cell_type": "code",
      "execution_count": null,
      "metadata": {
        "id": "RlcbsgW9gjqf"
      },
      "outputs": [],
      "source": [
        "import textwrap\n",
        "\n",
        "def process_query(user_input, num_words):\n",
        "    user_input = user_input.lower()\n",
        "\n",
        "    # Check for any of the specified keywords in the input\n",
        "    matched_keyword = next((keyword for keyword in urls if keyword in user_input), None)\n",
        "\n",
        "    if matched_keyword:\n",
        "        print(f\"Fetching data from: {urls[matched_keyword]}\")\n",
        "        cleaned_text = fetch_and_clean(urls[matched_keyword])\n",
        "\n",
        "        # Limit the display to the specified number of words from the cleaned text\n",
        "        words = cleaned_text.split()  # Split the text into words\n",
        "        first_n_words = ' '.join(words[:num_words])  # Join the first n words into a single string\n",
        "\n",
        "        # Wrap the first n words to 80 characters wide for display\n",
        "        wrapped_text = textwrap.fill(first_n_words, width=80)\n",
        "        print(\"\\nFirst {} words of the cleaned text:\".format(num_words))\n",
        "        print(wrapped_text)  # Print the first n words as a well-formatted paragraph\n",
        "\n",
        "        # Use the exact same first_n_words for the GPT-4 prompt to ensure consistency\n",
        "        prompt = f\"Summarize the following information about {matched_keyword}:\\n{first_n_words}\"\n",
        "        wrapped_prompt = textwrap.fill(prompt, width=80)  # Wrap prompt text\n",
        "        print(\"\\nPrompt for Generator:\", wrapped_prompt)\n",
        "\n",
        "        # Return the specified number of words\n",
        "        return first_n_words\n",
        "    else:\n",
        "        print(\"No relevant keywords found. Please enter a query related to 'LLM', 'LLMs', or 'Prompt Engineering'.\")\n",
        "        return None"
      ]
    },
    {
      "cell_type": "markdown",
      "metadata": {
        "id": "kyIzWHw-VX87"
      },
      "source": [
        "# 2.GENERATOR"
      ]
    },
    {
      "cell_type": "markdown",
      "metadata": {
        "id": "EIZ5ZyLWSVgj"
      },
      "source": [
        "## 2.1.Adaptive RAG Selection Based on Human Ranking: Integrating HF-RAG for Augmented Document Inputs"
      ]
    },
    {
      "cell_type": "code",
      "execution_count": 2,
      "metadata": {
        "colab": {
          "base_uri": "https://localhost:8080/"
        },
        "id": "uvUC5cG3Ho15",
        "outputId": "1be5367e-e0f3-4dad-8d3f-b9351b655799"
      },
      "outputs": [
        {
          "output_type": "stream",
          "name": "stdout",
          "text": [
            "Downloaded 'rag_strategy.png' successfully.\n"
          ]
        }
      ],
      "source": [
        "#@title dowload image\n",
        "from grequests import download\n",
        "\n",
        "# Define your variables\n",
        "directory = \"Chapter05\"\n",
        "filename = \"rag_strategy.png\"\n",
        "download(directory, filename)"
      ]
    },
    {
      "cell_type": "code",
      "execution_count": 3,
      "metadata": {
        "colab": {
          "base_uri": "https://localhost:8080/",
          "height": 417
        },
        "id": "Lu4MFQczH9NP",
        "outputId": "48e83787-5d71-4e17-b2c4-f21f32f3859b"
      },
      "outputs": [
        {
          "output_type": "display_data",
          "data": {
            "image/png": "[encoded data removed]",
            "text/plain": [
              "<IPython.core.display.Image object>"
            ]
          },
          "metadata": {
            "image/png": {
              "width": 500,
              "height": 400
            }
          }
        }
      ],
      "source": [
        "#@title show image\n",
        "from IPython.display import Image, display\n",
        "\n",
        "# Specify the path to your PNG file\n",
        "image_path = '/content/rag_strategy.png'\n",
        "\n",
        "# Display the image\n",
        "# Display the image with specified width and height\n",
        "display(Image(filename=image_path, width=500, height=400))  # Adjust the width and height as needed"
      ]
    },
    {
      "cell_type": "markdown",
      "metadata": {
        "id": "0QLW4rQ8RKAh"
      },
      "source": [
        "## 2.2. Input"
      ]
    },
    {
      "cell_type": "code",
      "execution_count": null,
      "metadata": {
        "colab": {
          "base_uri": "https://localhost:8080/"
        },
        "id": "PFsmR8Y2Rprt",
        "outputId": "c79ee4e8-c679-41ac-acc8-9df805dad4d8"
      },
      "outputs": [
        {
          "name": "stdout",
          "output_type": "stream",
          "text": [
            "Enter your query: What is an LLM?\n"
          ]
        }
      ],
      "source": [
        "# Request user input for keyword parsing\n",
        "user_input = input(\"Enter your query: \").lower()"
      ]
    },
    {
      "cell_type": "markdown",
      "metadata": {
        "id": "NihM6SAYDsoF"
      },
      "source": [
        "## 2.3 Mean ranking simulation scenario\n",
        "\n",
        "Section *3.2.Human user ranking* illustrates a human user ranking function.\n",
        "\n",
        "In this case, we are simulating a mean ranking of a system that a panel of users has been evaluating."
      ]
    },
    {
      "cell_type": "code",
      "execution_count": 7,
      "metadata": {
        "id": "ffSTWuSDD1Ly"
      },
      "outputs": [],
      "source": [
        "#Select a score between 1 and 5 to run the simulation\n",
        "ranking=5"
      ]
    },
    {
      "cell_type": "code",
      "execution_count": 8,
      "metadata": {
        "id": "07BDwXU2Hf3U"
      },
      "outputs": [],
      "source": [
        "# initializing the text for the generative AI model simulations\n",
        "text_input=[]"
      ]
    },
    {
      "cell_type": "markdown",
      "metadata": {
        "id": "uPsS1xtgASQy"
      },
      "source": [
        "### Ranking 1-2 : No RAG"
      ]
    },
    {
      "cell_type": "code",
      "execution_count": 9,
      "metadata": {
        "id": "S87v98eJ2p-z"
      },
      "outputs": [],
      "source": [
        "if ranking>=1 and ranking<3:\n",
        "  text_input=user_input"
      ]
    },
    {
      "cell_type": "markdown",
      "metadata": {
        "id": "ZZHN3sodJOgl"
      },
      "source": [
        "### Ranking 3-4 : Human Expert Feedback RAG only"
      ]
    },
    {
      "cell_type": "code",
      "execution_count": 15,
      "metadata": {
        "id": "KhUenmxZJ7Xx"
      },
      "outputs": [],
      "source": [
        "hf=False\n",
        "if ranking>=3 and ranking<5:\n",
        "  hf=True"
      ]
    },
    {
      "cell_type": "markdown",
      "metadata": {
        "id": "Kpi1EeuzKUBy"
      },
      "source": [
        "Retrieve human expert feedback flashcards, documents or snippets"
      ]
    },
    {
      "cell_type": "code",
      "execution_count": 16,
      "metadata": {
        "id": "VzLKDtgrcqMC",
        "outputId": "a9004db3-ab1c-4435-c774-952a8167d955",
        "colab": {
          "base_uri": "https://localhost:8080/"
        }
      },
      "outputs": [
        {
          "output_type": "stream",
          "name": "stdout",
          "text": [
            "Downloaded 'human_feedback.txt' successfully.\n"
          ]
        }
      ],
      "source": [
        "if hf==True:\n",
        "  from grequests import download\n",
        "  directory = \"Chapter05\"\n",
        "  filename = \"human_feedback.txt\"\n",
        "  download(directory, filename)"
      ]
    },
    {
      "cell_type": "markdown",
      "metadata": {
        "id": "Z6As6EkULE9f"
      },
      "source": [
        "Check if human_feedback.txt exists and retrieve content.\n",
        "\n",
        "In this case, the content is customized for customer service."
      ]
    },
    {
      "cell_type": "code",
      "execution_count": null,
      "metadata": {
        "id": "M0zrnmoxK8KX"
      },
      "outputs": [],
      "source": [
        "if hf==True:\n",
        "  # Check if 'human_feedback.txt' exists\n",
        "    efile = os.path.exists('human_feedback.txt')\n",
        "\n",
        "    if efile:\n",
        "        # Read and clean the file content\n",
        "        with open('human_feedback.txt', 'r') as file:\n",
        "            content = file.read().replace('\\n', ' ').replace('#', '')  # Removing new line and markdown characters\n",
        "            #print(content)  # Uncomment for debugging or maintenance display\n",
        "        text_input=content\n",
        "        print(text_input)\n",
        "    else:\n",
        "      print(\"File not found\")\n",
        "      hf=False"
      ]
    },
    {
      "cell_type": "markdown",
      "metadata": {
        "id": "4OIxpahTCKv3"
      },
      "source": [
        "### Ranking 5 : RAG only with no HF"
      ]
    },
    {
      "cell_type": "code",
      "execution_count": null,
      "metadata": {
        "colab": {
          "base_uri": "https://localhost:8080/"
        },
        "id": "9UP5T7yCC8Rf",
        "outputId": "43aa7c67-fda8-4643-f627-f1fa797f6bcb"
      },
      "outputs": [
        {
          "output_type": "stream",
          "name": "stdout",
          "text": [
            "Fetching data from: https://en.wikipedia.org/wiki/Large_language_model\n",
            "\n",
            "First 100 words of the cleaned text:\n",
            "A large language model ( LLM ) is a computational model notable for its ability\n",
            "to achieve general-purpose language generation and other natural language\n",
            "processing tasks such as classification . Based on language models , LLMs\n",
            "acquire these abilities by learning statistical relationships from vast amounts\n",
            "of text during a computationally intensive self-supervised and semi-supervised\n",
            "training process. [ 1 ] LLMs can be used for text generation, a form of\n",
            "generative AI , by taking an input text and repeatedly predicting the next token\n",
            "or word. [ 2 ] LLMs are artificial neural networks that use the transformer\n",
            "architecture, invented\n",
            "\n",
            "Prompt for Generator: Summarize the following information about llm: A large language model ( LLM ) is\n",
            "a computational model notable for its ability to achieve general-purpose\n",
            "language generation and other natural language processing tasks such as\n",
            "classification . Based on language models , LLMs acquire these abilities by\n",
            "learning statistical relationships from vast amounts of text during a\n",
            "computationally intensive self-supervised and semi-supervised training process.\n",
            "[ 1 ] LLMs can be used for text generation, a form of generative AI , by taking\n",
            "an input text and repeatedly predicting the next token or word. [ 2 ] LLMs are\n",
            "artificial neural networks that use the transformer architecture, invented\n",
            "A large language model ( LLM ) is a computational model notable for its ability to achieve general-purpose language generation and other natural language processing tasks such as classification . Based on language models , LLMs acquire these abilities by learning statistical relationships from vast amounts of text during a computationally intensive self-supervised and semi-supervised training process. [ 1 ] LLMs can be used for text generation, a form of generative AI , by taking an input text and repeatedly predicting the next token or word. [ 2 ] LLMs are artificial neural networks that use the transformer architecture, invented\n",
            "A large language model ( LLM ) is a computational model notable for its ability to achieve general-purpose language generation and other natural language processing tasks such as classification . Based on language models , LLMs acquire these abilities by learning statistical relationships from vast amounts of text during a computationally intensive self-supervised and semi-supervised training process. [ 1 ] LLMs can be used for text generation, a form of generative AI , by taking an input text and repeatedly predicting the next token or word. [ 2 ] LLMs are artificial neural networks that use the transformer architecture, invented\n"
          ]
        }
      ],
      "source": [
        "if ranking>=5:\n",
        "  max_words=100 #Limit: the size of the data we can add to the input\n",
        "  rdata=process_query(user_input,max_words)\n",
        "  print(rdata) # for maintenance if necessary\n",
        "  if rdata:\n",
        "        rdata_clean = rdata.replace('\\n', ' ').replace('#', '')\n",
        "        rdata_sentences = rdata_clean.split('. ')\n",
        "  text_input=rdata\n",
        "  print(text_input)"
      ]
    },
    {
      "cell_type": "markdown",
      "metadata": {
        "id": "B-BQrN3LEWG4"
      },
      "source": [
        "## 2.4. Checking the input before running the generator"
      ]
    },
    {
      "cell_type": "code",
      "execution_count": null,
      "metadata": {
        "colab": {
          "base_uri": "https://localhost:8080/"
        },
        "id": "jgO1gBwmW_oT",
        "outputId": "5c4dda84-6e91-4057-8432-7499cf834556"
      },
      "outputs": [
        {
          "output_type": "stream",
          "name": "stdout",
          "text": [
            "user input: what is an llm?\n"
          ]
        }
      ],
      "source": [
        "print(\"user input:\",user_input)"
      ]
    },
    {
      "cell_type": "code",
      "execution_count": null,
      "metadata": {
        "colab": {
          "base_uri": "https://localhost:8080/"
        },
        "id": "VFIovBj0WsZH",
        "outputId": "56982bf5-54b3-4946-ebb1-a8764dae26a2"
      },
      "outputs": [
        {
          "output_type": "stream",
          "name": "stdout",
          "text": [
            "text input: A large language model ( LLM ) is a computational model notable for its ability to achieve general-purpose language generation and other natural language processing tasks such as classification . Based on language models , LLMs acquire these abilities by learning statistical relationships from vast amounts of text during a computationally intensive self-supervised and semi-supervised training process. [ 1 ] LLMs can be used for text generation, a form of generative AI , by taking an input text and repeatedly predicting the next token or word. [ 2 ] LLMs are artificial neural networks that use the transformer architecture, invented\n"
          ]
        }
      ],
      "source": [
        "print(\"text input:\",text_input)"
      ]
    },
    {
      "cell_type": "markdown",
      "metadata": {
        "id": "PAWRq1KlYug-"
      },
      "source": [
        "## 2.5.Installing the Generative AI environment\n",
        "\n",
        "NOTE: Only run this section once. If you go back and modify the scenario in section 2.3., you can skip this section to run the generative AI model again. This installation is not at the top of this notebook because in production, a project team may choose to run this part of the program in another environment and even another server."
      ]
    },
    {
      "cell_type": "code",
      "execution_count": null,
      "metadata": {
        "colab": {
          "base_uri": "https://localhost:8080/"
        },
        "id": "8VCfbN0YwHbE",
        "outputId": "74a46c8a-dbe1-4432-ed3a-a881fdff2ef5"
      },
      "outputs": [
        {
          "output_type": "stream",
          "name": "stdout",
          "text": [
            "Collecting openai==1.40.3\n",
            "  Downloading openai-1.40.3-py3-none-any.whl.metadata (22 kB)\n",
            "Requirement already satisfied: anyio<5,>=3.5.0 in /usr/local/lib/python3.10/dist-packages (from openai==1.40.3) (3.7.1)\n",
            "Requirement already satisfied: distro<2,>=1.7.0 in /usr/lib/python3/dist-packages (from openai==1.40.3) (1.7.0)\n",
            "Collecting httpx<1,>=0.23.0 (from openai==1.40.3)\n",
            "  Downloading httpx-0.27.0-py3-none-any.whl.metadata (7.2 kB)\n",
            "Collecting jiter<1,>=0.4.0 (from openai==1.40.3)\n",
            "  Downloading jiter-0.5.0-cp310-cp310-manylinux_2_17_x86_64.manylinux2014_x86_64.whl.metadata (3.6 kB)\n",
            "Requirement already satisfied: pydantic<3,>=1.9.0 in /usr/local/lib/python3.10/dist-packages (from openai==1.40.3) (2.8.2)\n",
            "Requirement already satisfied: sniffio in /usr/local/lib/python3.10/dist-packages (from openai==1.40.3) (1.3.1)\n",
            "Requirement already satisfied: tqdm>4 in /usr/local/lib/python3.10/dist-packages (from openai==1.40.3) (4.66.5)\n",
            "Requirement already satisfied: typing-extensions<5,>=4.11 in /usr/local/lib/python3.10/dist-packages (from openai==1.40.3) (4.12.2)\n",
            "Requirement already satisfied: idna>=2.8 in /usr/local/lib/python3.10/dist-packages (from anyio<5,>=3.5.0->openai==1.40.3) (3.7)\n",
            "Requirement already satisfied: exceptiongroup in /usr/local/lib/python3.10/dist-packages (from anyio<5,>=3.5.0->openai==1.40.3) (1.2.2)\n",
            "Requirement already satisfied: certifi in /usr/local/lib/python3.10/dist-packages (from httpx<1,>=0.23.0->openai==1.40.3) (2024.7.4)\n",
            "Collecting httpcore==1.* (from httpx<1,>=0.23.0->openai==1.40.3)\n",
            "  Downloading httpcore-1.0.5-py3-none-any.whl.metadata (20 kB)\n",
            "Collecting h11<0.15,>=0.13 (from httpcore==1.*->httpx<1,>=0.23.0->openai==1.40.3)\n",
            "  Downloading h11-0.14.0-py3-none-any.whl.metadata (8.2 kB)\n",
            "Requirement already satisfied: annotated-types>=0.4.0 in /usr/local/lib/python3.10/dist-packages (from pydantic<3,>=1.9.0->openai==1.40.3) (0.7.0)\n",
            "Requirement already satisfied: pydantic-core==2.20.1 in /usr/local/lib/python3.10/dist-packages (from pydantic<3,>=1.9.0->openai==1.40.3) (2.20.1)\n",
            "Downloading openai-1.40.3-py3-none-any.whl (360 kB)\n",
            "\u001b[2K   \u001b[90m━━━━━━━━━━━━━━━━━━━━━━━━━━━━━━━━━━━━━━━━\u001b[0m \u001b[32m360.7/360.7 kB\u001b[0m \u001b[31m7.2 MB/s\u001b[0m eta \u001b[36m0:00:00\u001b[0m\n",
            "\u001b[?25hDownloading httpx-0.27.0-py3-none-any.whl (75 kB)\n",
            "\u001b[2K   \u001b[90m━━━━━━━━━━━━━━━━━━━━━━━━━━━━━━━━━━━━━━━━\u001b[0m \u001b[32m75.6/75.6 kB\u001b[0m \u001b[31m6.3 MB/s\u001b[0m eta \u001b[36m0:00:00\u001b[0m\n",
            "\u001b[?25hDownloading httpcore-1.0.5-py3-none-any.whl (77 kB)\n",
            "\u001b[2K   \u001b[90m━━━━━━━━━━━━━━━━━━━━━━━━━━━━━━━━━━━━━━━━\u001b[0m \u001b[32m77.9/77.9 kB\u001b[0m \u001b[31m5.8 MB/s\u001b[0m eta \u001b[36m0:00:00\u001b[0m\n",
            "\u001b[?25hDownloading jiter-0.5.0-cp310-cp310-manylinux_2_17_x86_64.manylinux2014_x86_64.whl (318 kB)\n",
            "\u001b[2K   \u001b[90m━━━━━━━━━━━━━━━━━━━━━━━━━━━━━━━━━━━━━━━━\u001b[0m \u001b[32m318.9/318.9 kB\u001b[0m \u001b[31m21.9 MB/s\u001b[0m eta \u001b[36m0:00:00\u001b[0m\n",
            "\u001b[?25hDownloading h11-0.14.0-py3-none-any.whl (58 kB)\n",
            "\u001b[2K   \u001b[90m━━━━━━━━━━━━━━━━━━━━━━━━━━━━━━━━━━━━━━━━\u001b[0m \u001b[32m58.3/58.3 kB\u001b[0m \u001b[31m4.2 MB/s\u001b[0m eta \u001b[36m0:00:00\u001b[0m\n",
            "\u001b[?25hInstalling collected packages: jiter, h11, httpcore, httpx, openai\n",
            "Successfully installed h11-0.14.0 httpcore-1.0.5 httpx-0.27.0 jiter-0.5.0 openai-1.40.3\n"
          ]
        }
      ],
      "source": [
        "!pip install openai==1.40.3"
      ]
    },
    {
      "cell_type": "code",
      "execution_count": null,
      "metadata": {
        "colab": {
          "base_uri": "https://localhost:8080/"
        },
        "id": "myXJn33zbqTR",
        "outputId": "c65436ff-75fa-4023-ddfa-52e5bae6bc70"
      },
      "outputs": [
        {
          "output_type": "stream",
          "name": "stdout",
          "text": [
            "Mounted at /content/drive\n"
          ]
        }
      ],
      "source": [
        "#API Key\n",
        "#Store you key in a file and read it(you can type it directly in the notebook but it will be visible for somebody next to you)\n",
        "from google.colab import drive\n",
        "drive.mount('/content/drive')"
      ]
    },
    {
      "cell_type": "code",
      "execution_count": null,
      "metadata": {
        "id": "Oefvqp21Ba07"
      },
      "outputs": [],
      "source": [
        "f = open(\"drive/MyDrive/files/api_key.txt\", \"r\")\n",
        "API_KEY=f.readline().strip()\n",
        "f.close()\n",
        "\n",
        "#The OpenAI Key\n",
        "import os\n",
        "import openai\n",
        "os.environ['OPENAI_API_KEY'] =API_KEY\n",
        "openai.api_key = os.getenv(\"OPENAI_API_KEY\")"
      ]
    },
    {
      "cell_type": "markdown",
      "metadata": {
        "id": "ykckzIVIY9s_"
      },
      "source": [
        "## 2.6.Content generation"
      ]
    },
    {
      "cell_type": "code",
      "execution_count": null,
      "metadata": {
        "colab": {
          "base_uri": "https://localhost:8080/"
        },
        "id": "cSe74jkP-sIM",
        "outputId": "e6ba2404-c91b-41ba-d1d1-e55592a5010d"
      },
      "outputs": [
        {
          "output_type": "stream",
          "name": "stdout",
          "text": [
            "Response Time: 8.78 seconds\n",
            "gpt-4o Response: ### Summary:\n",
            "A large language model (LLM) is a computational model known for its ability to perform general-purpose language generation and other natural language processing tasks, such as classification. LLMs acquire these abilities by learning statistical relationships from vast amounts of text during a computationally intensive self-supervised and semi-supervised training process. They can be used for text generation, a form of generative AI, by taking input text and repeatedly predicting the next token or word. LLMs are artificial neural networks that use the transformer architecture.\n",
            "\n",
            "### Elaboration:\n",
            "A large language model (LLM) is a sophisticated type of artificial intelligence designed to understand and generate human language. These models are particularly notable for their versatility in handling a wide range of natural language processing (NLP) tasks. This includes generating coherent and contextually relevant text, classifying text into categories, translating languages, summarizing content, and more.\n",
            "\n",
            "The core strength of LLMs lies in their training process. They are trained on massive datasets containing diverse text from books, articles, websites, and other sources. During training, the model learns to recognize patterns and relationships between words, phrases, and sentences. This training is both computationally intensive and involves self-supervised and semi-supervised learning techniques. In self-supervised learning, the model learns from the data itself without explicit human annotations, while semi-supervised learning involves a combination of labeled and unlabeled data.\n",
            "\n",
            "One of the key architectures used in LLMs is the transformer architecture. Transformers are a type of neural network that excel at handling sequential data and capturing long-range dependencies in text. This architecture allows LLMs to generate text by predicting the next word or token in a sequence, given an initial input. This capability makes them powerful tools for generating human-like text, answering questions, and even engaging in conversations.\n",
            "\n",
            "Overall, LLMs represent a significant advancement in the field of artificial intelligence, enabling machines to better understand and generate human language with remarkable accuracy and fluency.\n"
          ]
        }
      ],
      "source": [
        "from openai import OpenAI\n",
        "import time\n",
        "\n",
        "client = OpenAI()\n",
        "gptmodel=\"gpt-4o\"\n",
        "start_time = time.time()  # Start timing before the request\n",
        "\n",
        "def call_gpt4_with_full_text(itext):\n",
        "    # Join all lines to form a single string\n",
        "    text_input = '\\n'.join(itext)\n",
        "    prompt = f\"Please summarize or elaborate on the following content:\\n{text_input}\"\n",
        "\n",
        "    try:\n",
        "      response = client.chat.completions.create(\n",
        "         model=gptmodel,\n",
        "         messages=[\n",
        "            {\"role\": \"system\", \"content\": \"You are an expert Natural Language Processing exercise expert.\"},\n",
        "            {\"role\": \"assistant\", \"content\": \"1.You can explain read the input and answer in detail\"},\n",
        "            {\"role\": \"user\", \"content\": prompt}\n",
        "         ],\n",
        "         temperature=0.1  # Add the temperature parameter here and other parameters you need\n",
        "        )\n",
        "      return response.choices[0].message.content.strip()\n",
        "    except Exception as e:\n",
        "        return str(e)\n",
        "\n",
        "# Call the function and print the result\n",
        "gpt4_response = call_gpt4_with_full_text(text_input)\n",
        "\n",
        "response_time = time.time() - start_time  # Measure response time\n",
        "print(f\"Response Time: {response_time:.2f} seconds\")  # Print response time\n",
        "\n",
        "print(gptmodel,\"Response:\", gpt4_response)"
      ]
    },
    {
      "cell_type": "markdown",
      "metadata": {
        "id": "bVKe9VF0HIHJ"
      },
      "source": [
        "### Formatted response"
      ]
    },
    {
      "cell_type": "code",
      "execution_count": null,
      "metadata": {
        "colab": {
          "base_uri": "https://localhost:8080/"
        },
        "id": "oG8I2Kb2HFhL",
        "outputId": "6d768710-2b5c-4caa-f2cc-a4c6d79ee728"
      },
      "outputs": [
        {
          "output_type": "stream",
          "name": "stdout",
          "text": [
            "GPT-4 Response:\n",
            "---------------\n",
            "### Summary: A large language model (LLM) is a computational model known for its\n",
            "ability to perform general-purpose language generation and other natural\n",
            "language processing tasks, such as classification. LLMs acquire these abilities\n",
            "by learning statistical relationships from vast amounts of text during a\n",
            "computationally intensive self-supervised and semi-supervised training process.\n",
            "They can be used for text generation, a form of generative AI, by taking input\n",
            "text and repeatedly predicting the next token or word. LLMs are artificial\n",
            "neural networks that use the transformer architecture.  ### Elaboration: A large\n",
            "language model (LLM) is a sophisticated type of artificial intelligence designed\n",
            "to understand and generate human language. These models are particularly notable\n",
            "for their versatility in handling a wide range of natural language processing\n",
            "(NLP) tasks. This includes generating coherent and contextually relevant text,\n",
            "classifying text into categories, translating languages, summarizing content,\n",
            "and more.  The core strength of LLMs lies in their training process. They are\n",
            "trained on massive datasets containing diverse text from books, articles,\n",
            "websites, and other sources. During training, the model learns to recognize\n",
            "patterns and relationships between words, phrases, and sentences. This training\n",
            "is both computationally intensive and involves self-supervised and semi-\n",
            "supervised learning techniques. In self-supervised learning, the model learns\n",
            "from the data itself without explicit human annotations, while semi-supervised\n",
            "learning involves a combination of labeled and unlabeled data.  One of the key\n",
            "architectures used in LLMs is the transformer architecture. Transformers are a\n",
            "type of neural network that excel at handling sequential data and capturing\n",
            "long-range dependencies in text. This architecture allows LLMs to generate text\n",
            "by predicting the next word or token in a sequence, given an initial input. This\n",
            "capability makes them powerful tools for generating human-like text, answering\n",
            "questions, and even engaging in conversations.  Overall, LLMs represent a\n",
            "significant advancement in the field of artificial intelligence, enabling\n",
            "machines to better understand and generate human language with remarkable\n",
            "accuracy and fluency.\n",
            "---------------\n",
            "\n"
          ]
        }
      ],
      "source": [
        "import textwrap\n",
        "\n",
        "def print_formatted_response(response):\n",
        "    # Define the width for wrapping the text\n",
        "    wrapper = textwrap.TextWrapper(width=80)  # Set to 80 columns wide, but adjust as needed\n",
        "    wrapped_text = wrapper.fill(text=response)\n",
        "\n",
        "    # Print the formatted response with a header and footer\n",
        "    print(\"GPT-4 Response:\")\n",
        "    print(\"---------------\")\n",
        "    print(wrapped_text)\n",
        "    print(\"---------------\\n\")\n",
        "\n",
        "# Assuming 'gpt4_response' contains the response from the previous GPT-4 call\n",
        "print_formatted_response(gpt4_response)\n"
      ]
    },
    {
      "cell_type": "markdown",
      "metadata": {
        "id": "ctFwVSiId05a"
      },
      "source": [
        "# 3.EVALUATOR"
      ]
    },
    {
      "cell_type": "markdown",
      "metadata": {
        "id": "sUtYQCavDsy0"
      },
      "source": [
        "## 3.1.Response time\n"
      ]
    },
    {
      "cell_type": "code",
      "execution_count": null,
      "metadata": {
        "colab": {
          "base_uri": "https://localhost:8080/"
        },
        "id": "2MmATdlm9Jts",
        "outputId": "eb9b457e-7e89-4332-e4ee-4b30121aedac"
      },
      "outputs": [
        {
          "output_type": "stream",
          "name": "stdout",
          "text": [
            "Response Time: 8.78 seconds\n"
          ]
        }
      ],
      "source": [
        "print(f\"Response Time: {response_time:.2f} seconds\")  # Print response time"
      ]
    },
    {
      "cell_type": "markdown",
      "metadata": {
        "id": "aqjcyp7cDk9T"
      },
      "source": [
        "## 3.2.Cosine Similarity Score"
      ]
    },
    {
      "cell_type": "code",
      "execution_count": null,
      "metadata": {
        "colab": {
          "base_uri": "https://localhost:8080/"
        },
        "id": "CieQCTEvHS4L",
        "outputId": "2b62a7e3-d62b-4cb2-db52-901ac2150c2e"
      },
      "outputs": [
        {
          "output_type": "stream",
          "name": "stdout",
          "text": [
            "Cosine Similarity Score: 0.697\n"
          ]
        }
      ],
      "source": [
        "from sklearn.feature_extraction.text import TfidfVectorizer\n",
        "from sklearn.metrics.pairwise import cosine_similarity\n",
        "\n",
        "def calculate_cosine_similarity(text1, text2):\n",
        "    vectorizer = TfidfVectorizer()\n",
        "    tfidf = vectorizer.fit_transform([text1, text2])\n",
        "    similarity = cosine_similarity(tfidf[0:1], tfidf[1:2])\n",
        "    return similarity[0][0]\n",
        "\n",
        "# Example usage with your existing functions\n",
        "similarity_score = calculate_cosine_similarity(text_input, gpt4_response)\n",
        "\n",
        "print(f\"Cosine Similarity Score: {similarity_score:.3f}\")"
      ]
    },
    {
      "cell_type": "markdown",
      "metadata": {
        "id": "RNyluj7qHOBP"
      },
      "source": [
        "## 3.3.Human user rating\n",
        "\n"
      ]
    },
    {
      "cell_type": "code",
      "execution_count": null,
      "metadata": {
        "id": "TMKmRyR-Em_w"
      },
      "outputs": [],
      "source": [
        "# Score parameters\n",
        "counter=20                      # number of queries\n",
        "score_history=60                # human feedback\n",
        "threshold=4                     # minimum rankings to trigger human expert feedback"
      ]
    },
    {
      "cell_type": "code",
      "execution_count": null,
      "metadata": {
        "colab": {
          "base_uri": "https://localhost:8080/"
        },
        "id": "4HxjVQsQD6tV",
        "outputId": "037ffe84-9478-4d52-bc61-f4223240d2ea"
      },
      "outputs": [
        {
          "output_type": "stream",
          "name": "stdout",
          "text": [
            "\n",
            "Generated Response:\n",
            "### Summary:\n",
            "A large language model (LLM) is a computational model known for its ability to perform general-purpose language generation and other natural language processing tasks, such as classification. LLMs acquire these abilities by learning statistical relationships from vast amounts of text during a computationally intensive self-supervised and semi-supervised training process. They can be used for text generation, a form of generative AI, by taking input text and repeatedly predicting the next token or word. LLMs are artificial neural networks that use the transformer architecture.\n",
            "\n",
            "### Elaboration:\n",
            "A large language model (LLM) is a sophisticated type of artificial intelligence designed to understand and generate human language. These models are particularly notable for their versatility in handling a wide range of natural language processing (NLP) tasks. This includes generating coherent and contextually relevant text, classifying text into categories, translating languages, summarizing content, and more.\n",
            "\n",
            "The core strength of LLMs lies in their training process. They are trained on massive datasets containing diverse text from books, articles, websites, and other sources. During training, the model learns to recognize patterns and relationships between words, phrases, and sentences. This training is both computationally intensive and involves self-supervised and semi-supervised learning techniques. In self-supervised learning, the model learns from the data itself without explicit human annotations, while semi-supervised learning involves a combination of labeled and unlabeled data.\n",
            "\n",
            "One of the key architectures used in LLMs is the transformer architecture. Transformers are a type of neural network that excel at handling sequential data and capturing long-range dependencies in text. This architecture allows LLMs to generate text by predicting the next word or token in a sequence, given an initial input. This capability makes them powerful tools for generating human-like text, answering questions, and even engaging in conversations.\n",
            "\n",
            "Overall, LLMs represent a significant advancement in the field of artificial intelligence, enabling machines to better understand and generate human language with remarkable accuracy and fluency.\n",
            "\n",
            "Please evaluate the response based on the following criteria:\n",
            "1 - Poor, 2 - Fair, 3 - Good, 4 - Very Good, 5 - Excellent\n",
            "Enter the relevance and coherence score (1-5): 3\n",
            "Evaluator Score: 3\n",
            "Rankings      : 21\n",
            "Score history :  3.0\n"
          ]
        }
      ],
      "source": [
        "import numpy as np\n",
        "def evaluate_response(response):\n",
        "    print(\"\\nGenerated Response:\")\n",
        "    print(response)\n",
        "    print(\"\\nPlease evaluate the response based on the following criteria:\")\n",
        "    print(\"1 - Poor, 2 - Fair, 3 - Good, 4 - Very Good, 5 - Excellent\")\n",
        "    score = input(\"Enter the relevance and coherence score (1-5): \")\n",
        "    try:\n",
        "        score = int(score)\n",
        "        if 1 <= score <= 5:\n",
        "            return score\n",
        "        else:\n",
        "            print(\"Invalid score. Please enter a number between 1 and 5.\")\n",
        "            return evaluate_response(response)  # Recursive call if the input is invalid\n",
        "    except ValueError:\n",
        "        print(\"Invalid input. Please enter a numerical value.\")\n",
        "        return evaluate_response(response)  # Recursive call if the input is invalid\n",
        "\n",
        "score = evaluate_response(gpt4_response)\n",
        "print(\"Evaluator Score:\", score)\n",
        "\n",
        "counter+=1\n",
        "score_history+=score\n",
        "mean_score=round(np.mean(score_history/counter), 2)\n",
        "if counter>0:\n",
        "  print(\"Rankings      :\", counter)\n",
        "  print(\"Score history : \", mean_score)"
      ]
    },
    {
      "cell_type": "markdown",
      "metadata": {
        "id": "ujmJFIRID15f"
      },
      "source": [
        "## 3.4.Human expert evaluation\n",
        "\n",
        "Human feedback for RAG adaptive loop preparation.\n",
        "\n",
        "Flashcard creation."
      ]
    },
    {
      "cell_type": "markdown",
      "metadata": {
        "id": "MKz--ftvcXVG"
      },
      "source": [
        "images for the expert's interface"
      ]
    },
    {
      "cell_type": "code",
      "execution_count": 18,
      "metadata": {
        "colab": {
          "base_uri": "https://localhost:8080/"
        },
        "id": "IPiVpRYFcV06",
        "outputId": "8ddb6420-4598-4480-b961-50f699b1a652"
      },
      "outputs": [
        {
          "output_type": "stream",
          "name": "stdout",
          "text": [
            "Downloaded 'thumbs_up.png' successfully.\n",
            "Downloaded 'thumbs_down.png' successfully.\n"
          ]
        }
      ],
      "source": [
        "from grequests import download\n",
        "\n",
        "# Define your variables\n",
        "directory = \"commons\"\n",
        "filename = \"thumbs_up.png\"\n",
        "download(directory, filename)\n",
        "\n",
        "# Define your variables\n",
        "directory = \"commons\"\n",
        "filename = \"thumbs_down.png\"\n",
        "download(directory, filename)"
      ]
    },
    {
      "cell_type": "markdown",
      "metadata": {
        "id": "hLi_juvgccaC"
      },
      "source": [
        "defining thresholds"
      ]
    },
    {
      "cell_type": "code",
      "execution_count": null,
      "metadata": {
        "id": "v4UDRm-xmptW"
      },
      "outputs": [],
      "source": [
        "counter_threshold=10\n",
        "score_threshold=4\n",
        "\n",
        "if counter>counter_threshold and score_history<=score_threshold:\n",
        "  print(\"Human expert evaluation is required for the feedback loop.\")"
      ]
    },
    {
      "cell_type": "markdown",
      "metadata": {
        "id": "-M4bncqxOJI7"
      },
      "source": [
        "Let's use URI (Uniform Resource Identifier) to dispaly the icon images which is a string of characters that identifies a resource on the internet, either by location, name, or both."
      ]
    },
    {
      "cell_type": "code",
      "execution_count": null,
      "metadata": {
        "colab": {
          "base_uri": "https://localhost:8080/",
          "height": 134
        },
        "id": "hFI0T0k-VKQC",
        "outputId": "218d8f58-2e52-4221-9434-a16d3b6c9a1d"
      },
      "outputs": [
        {
          "output_type": "stream",
          "name": "stdout",
          "text": [
            "Human Expert Adaptive RAG activated\n"
          ]
        },
        {
          "output_type": "display_data",
          "data": {
            "text/plain": [
              "<IPython.core.display.HTML object>"
            ],
            "text/html": [
              "\n",
              "    <img src=\"data:image/png;base64,iVBORw0KGgoAAAANSUhEUgAAAGAAAABgCAMAAADVRocKAAAAAXNSR0IArs4c6QAAAARnQU1BAACxjwv8YQUAAAAzUExURQAAAAAAAAAAAAAAAAAAAAAAAAAAAAAAAAAAAAAAAAAAAAAAAAAAAAAAAAAAAAAAAAAAAKMFRskAAAAQdFJOUwAQIDBAUGBwgI+fr7/P3+8jGoKKAAAACXBIWXMAAA7DAAAOwwHHb6hkAAACY0lEQVRoQ+2Y25aDIAxFixeoN8j/f+1EpQUlWJ05PnQW+ynjmsWpwSQHHoVCoVDI0g6TG7T/A48aaGFU/gGagZypK21p9A/AaHLLT1eW7snS8FpX07AGYCxVa6DIrQEYIh9EEZKaJh/dJNCEj+ceAU29j27agyd1PqrI+giKpdZH0W4AqUNeot0AEjIU7QYQ7g+NDx8maOF4Rmnpb+hFyoUX4Kb02m4cXdzf3k0JR+tc7cP5e4KXQeXI+JAx8G6tps13OdDTRyB4FE/RFOb9xm4Brx9tAO8HuFHs1+eKgGYoWZ8/0lARJ1idToTt4wzXlqZdxi9WgV82xoUFjEtdVn8tRcn0a8YwudjJdYmLa4jMBWuXjtfq1fi1Iyd1tad/0x1WNq3C/J4fqVpPbELlbNej84vukEyrKLBirzXlit9YmHQZATcN7YVEr4imNZOi3yGZVqiAZJi+S0Dqg0iBehKKHCjQuM3c8OAEuG/t++IMToAnqVQ5OIFennQ4Aa7jyHq8wQlwHUuvABSQDz7fJNCKjg8nwP5PGiAoAaXZf9xYB9yG5PVRAobGzAQECcQnrC0ggfwdEkggf4eEEsjeX3yNgFzGDEiAyzjjuSECqrHZy9S/C6hutsIZn4wQaNnJjvkTgyiw2N/x5CW1Pr49ygrMuDOXHlzER/+WTVHVGssnqOXJMccXwalAdHem+SU+n1mzNbaQCDR99IPmNv/xTPlJIGFz8O54kGwP4gnZIl7wiwbc7ovmozj1R3nKF/FZ+CVYwzRiKR0V8XnYOB+QLeIrVKYfLScr4aiIC4VC4Z/zePwAoWgm1hf/pdsAAAAASUVORK5CYII=\" id=\"thumbs_up\" style=\"cursor:pointer;\" />\n",
              "    <img src=\"data:image/png;base64,iVBORw0KGgoAAAANSUhEUgAAAGAAAABgCAMAAADVRocKAAAAAXNSR0IArs4c6QAAAARnQU1BAACxjwv8YQUAAAAzUExURQAAAAAAAAAAAAAAAAAAAAAAAAAAAAAAAAAAAAAAAAAAAAAAAAAAAAAAAAAAAAAAAAAAAKMFRskAAAAQdFJOUwAQIDBAUGBwgI+fr7/P3+8jGoKKAAAACXBIWXMAAA7DAAAOwwHHb6hkAAACZElEQVRoQ+2YbbuDIAiGtexdg///aw/usOkWViv6sOvq/sS25qMoIJmbm5ubmyW2GXwIgAvmqeVHTmD7wMOJeMvPHcQONHHwvasrYaSqBfRsi/AsEvNY8U//OJq9dyuTtDOueYmHzYFMIU7fN/yhQIsTWxKIbDxxHkc2afwJcdhysUVgS2IhYKr0vAOEjekT3wrwV7Zuovd3nJBmdZdFgSew54zbgB2bEkUBCFO364CvL0AWYGMf7Xo4nxewY1xwcbPOCxBr4awiQMsohrOSQDmctQSK0fYzAsVoUBKgcO7Z/EBJgBZQCAQlgQHDtcfUFoNZScCYbpa3WU3AWECpOOkJFIJZUUCONUWBrJhnKAp04i7rCdAmS8GsJ9DLgaAnUMhGegINYhCWoCcQrxeBzQxFAVMHoTBrCtAalktQFZBi+bcEGiHdiQKxeoyOP+5HLMwlASJs9x451lHJWQZCyUWOKhSOciF3U6Gt9e/944OlQP3cqY6aBMlPndCPE+DFfmIh4MbXTlWeWkC2EzVAV7O9A5bPgfR3WsQix0+C6Ao8aALeHFkDhg/Hzih4+jh09LIVRZQFjPEfCsNqU3mED4UGZ7bU8G9D0i1R2UdxH/IcM6r7iG48eSVZf7tyDJe7pdgtnSGFNwEo56gz0M6mk+Tx+1S+SZ+VW/1IIKiVf+1CX2r4TjGkHCdVxvO8ykQ8U6U3H6dIPqr0k0VkeHn+kkDIPX+5gLlGIJu3cBVR4HKBdIwuOkWU8Dhnb7wpPUzDPtp41XuCCaG1jysof6FNfNkfka6gSnTTDNNF/rm5ubn5OYz5A5/zJsxRdDGQAAAAAElFTkSuQmCC\" id=\"thumbs_down\" style=\"cursor:pointer;\" />\n",
              "\n",
              "    <script type=\"text/javascript\">\n",
              "        // Function to handle the click event on thumbs up\n",
              "        document.querySelector(\"#thumbs_up\").onclick = function() {\n",
              "            google.colab.output.clear();\n",
              "            //Your function here\n",
              "        };\n",
              "        // Function to handle the click event on thumbs down\n",
              "        document.querySelector(\"#thumbs_down\").onclick = function() {\n",
              "            const text = prompt(\"Please enter your feedback:\");\n",
              "            if (text !== null) {\n",
              "                google.colab.kernel.invokeFunction('notebook.save_feedback', [text], {});\n",
              "            }\n",
              "        };\n",
              "    </script>\n",
              "    "
            ]
          },
          "metadata": {}
        }
      ],
      "source": [
        "import base64\n",
        "from google.colab import output\n",
        "from IPython.display import display, HTML\n",
        "\n",
        "def image_to_data_uri(file_path):\n",
        "    \"\"\"\n",
        "    Convert an image to a data URI.\n",
        "    \"\"\"\n",
        "    with open(file_path, 'rb') as image_file:\n",
        "        encoded_string = base64.b64encode(image_file.read()).decode()\n",
        "        return f'data:image/png;base64,{encoded_string}'\n",
        "\n",
        "thumbs_up_data_uri = image_to_data_uri('/content/thumbs_up.png')\n",
        "thumbs_down_data_uri = image_to_data_uri('/content/thumbs_down.png')\n",
        "\n",
        "def display_icons():\n",
        "    # Define the HTML content with the two clickable images\n",
        "    html = f'''\n",
        "    <img src=\"{thumbs_up_data_uri}\" id=\"thumbs_up\" style=\"cursor:pointer;\" />\n",
        "    <img src=\"{thumbs_down_data_uri}\" id=\"thumbs_down\" style=\"cursor:pointer;\" />\n",
        "\n",
        "    <script type=\"text/javascript\">\n",
        "        // Function to handle the click event on thumbs up\n",
        "        document.querySelector(\"#thumbs_up\").onclick = function() {{\n",
        "            google.colab.output.clear();\n",
        "            //Your function here\n",
        "        }};\n",
        "        // Function to handle the click event on thumbs down\n",
        "        document.querySelector(\"#thumbs_down\").onclick = function() {{\n",
        "            const text = prompt(\"Please enter your feedback:\");\n",
        "            if (text !== null) {{\n",
        "                google.colab.kernel.invokeFunction('notebook.save_feedback', [text], {{}});\n",
        "            }}\n",
        "        }};\n",
        "    </script>\n",
        "    '''\n",
        "    display(HTML(html))\n",
        "\n",
        "def save_feedback(feedback):\n",
        "    with open('/content/expert_feedback.txt', 'w') as f:\n",
        "        f.write(feedback)\n",
        "    print(\"Feedback saved successfully.\")\n",
        "\n",
        "# Register the callback\n",
        "output.register_callback('notebook.save_feedback', save_feedback)\n",
        "print(\"Human Expert Adaptive RAG activated\")\n",
        "\n",
        "# Display the icons with click handlers\n",
        "display_icons()"
      ]
    },
    {
      "cell_type": "code",
      "execution_count": null,
      "metadata": {
        "id": "a34PXtbwikxZ"
      },
      "outputs": [],
      "source": [
        "# Check if 'human_feedback.txt' exists\n",
        "expfile = os.path.exists('expert_feedback.txt')\n",
        "\n",
        "if expfile:\n",
        "    # Read and clean the file content\n",
        "    with open('expert_feedback.txt', 'r') as file:\n",
        "      content = file.read()\n",
        "      print(content)"
      ]
    }
  ],
  "metadata": {
    "colab": {
      "provenance": []
    },
    "kernelspec": {
      "display_name": "Python 3",
      "name": "python3"
    },
    "language_info": {
      "name": "python"
    }
  },
  "nbformat": 4,
  "nbformat_minor": 0
}